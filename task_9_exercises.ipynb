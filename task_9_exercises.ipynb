{
  "nbformat": 4,
  "nbformat_minor": 0,
  "metadata": {
    "kernelspec": {
      "display_name": "Python 3",
      "language": "python",
      "name": "python3"
    },
    "language_info": {
      "codemirror_mode": {
        "name": "ipython",
        "version": 3
      },
      "file_extension": ".py",
      "mimetype": "text/x-python",
      "name": "python",
      "nbconvert_exporter": "python",
      "pygments_lexer": "ipython3",
      "version": "3.8.5"
    },
    "colab": {
      "provenance": [],
      "collapsed_sections": [
        "ujnFWm-RrTBx",
        "ds_FKkd8rTB1",
        "-jzw9z22rTB2",
        "oJRRCJzXrTB4",
        "hBHF2iJWrTB5",
        "Xm6cFW72rTB6",
        "7wdHyF8urTB6",
        "CRVGta9irTB9",
        "nJcwu7UfrTB-",
        "ymiEXPfprTB-",
        "7kqvQk1qrTB_"
      ],
      "include_colab_link": true
    }
  },
  "cells": [
    {
      "cell_type": "markdown",
      "metadata": {
        "id": "view-in-github",
        "colab_type": "text"
      },
      "source": [
        "<a href=\"https://colab.research.google.com/github/yazeedmshayekh2/ShAi_Training/blob/main/task_9_exercises.ipynb\" target=\"_parent\"><img src=\"https://colab.research.google.com/assets/colab-badge.svg\" alt=\"Open In Colab\"/></a>"
      ]
    },
    {
      "cell_type": "markdown",
      "metadata": {
        "id": "vxs2h6RArTBa"
      },
      "source": [
        "# shAI Training 2022 | Level 1\n",
        "\n",
        "\n",
        "## Task#9 (MNIST Project part 2)\n",
        "\n",
        "### Classification\n",
        "\n",
        "- Before you start make sure you have latest Jupyter notebook version \n",
        "- <font color= red> If you have older version fetching the data might be different  </font>  \n"
      ]
    },
    {
      "cell_type": "code",
      "source": [
        "import numpy as np\n",
        "\n",
        "import warnings\n",
        "warnings.filterwarnings(\"ignore\")"
      ],
      "metadata": {
        "id": "SZhsfSGBYikJ"
      },
      "execution_count": 33,
      "outputs": []
    },
    {
      "cell_type": "code",
      "metadata": {
        "id": "dR41tAaxrTBi"
      },
      "source": [
        "import sklearn.datasets\n",
        "from sklearn.datasets import fetch_openml\n",
        "mnist =fetch_openml('mnist_784')\n",
        "X, y = mnist[\"data\"], mnist[\"target\"]"
      ],
      "execution_count": 2,
      "outputs": []
    },
    {
      "cell_type": "markdown",
      "metadata": {
        "id": "cNzsxLvArTBk"
      },
      "source": [
        "#### peek at one digit"
      ]
    },
    {
      "cell_type": "code",
      "metadata": {
        "colab": {
          "base_uri": "https://localhost:8080/",
          "height": 248
        },
        "id": "DXg7k2bXrTBl",
        "outputId": "2131245a-73fe-4395-fdd6-dea9136bf8f3"
      },
      "source": [
        "import matplotlib\n",
        "import matplotlib.pyplot as plt\n",
        "some_digit = np.array(X)[40000]\n",
        "some_digit_image = some_digit.reshape(28, 28)\n",
        "plt.imshow(some_digit_image, cmap = matplotlib.cm.binary,\n",
        "interpolation=\"nearest\")\n",
        "plt.axis(\"off\")\n",
        "plt.show()"
      ],
      "execution_count": 10,
      "outputs": [
        {
          "output_type": "display_data",
          "data": {
            "text/plain": [
              "<Figure size 432x288 with 1 Axes>"
            ],
            "image/png": "[encoded data removed]"
          },
          "metadata": {
            "needs_background": "light"
          }
        }
      ]
    },
    {
      "cell_type": "code",
      "metadata": {
        "id": "DLJfdeOprTBn"
      },
      "source": [
        "import numpy as np \n",
        "X_train, X_test, y_train, y_test = X[:60000], X[60000:], y[:60000], y[60000:]\n",
        "shuffle_index = np.random.permutation(60000)\n",
        "X_train, y_train = np.array(X_train)[shuffle_index], np.array(y_train)[shuffle_index]"
      ],
      "execution_count": 11,
      "outputs": []
    },
    {
      "cell_type": "code",
      "metadata": {
        "id": "CNjuU8EvrTBo"
      },
      "source": [
        "from sklearn.linear_model import SGDClassifier\n",
        "sgd_clf = SGDClassifier(random_state=42)"
      ],
      "execution_count": 12,
      "outputs": []
    },
    {
      "cell_type": "markdown",
      "metadata": {
        "id": "BVw_S__2rTBp"
      },
      "source": [
        "#### Try SGDCClassifier with multiple calss"
      ]
    },
    {
      "cell_type": "code",
      "metadata": {
        "id": "sgnh6yNPrTBp",
        "outputId": "292e53e1-3f77-4d28-cb07-c4561e77aaab",
        "colab": {
          "base_uri": "https://localhost:8080/"
        }
      },
      "source": [
        "# CODE HERE\n",
        "sgd_clf.fit(X_train, y_train)"
      ],
      "execution_count": 13,
      "outputs": [
        {
          "output_type": "execute_result",
          "data": {
            "text/plain": [
              "SGDClassifier(random_state=42)"
            ]
          },
          "metadata": {},
          "execution_count": 13
        }
      ]
    },
    {
      "cell_type": "code",
      "source": [
        "sgd_clf.predict([some_digit])"
      ],
      "metadata": {
        "colab": {
          "base_uri": "https://localhost:8080/"
        },
        "id": "8uddj1jeaZCw",
        "outputId": "df11bbae-240b-468a-8449-3f2958a890e7"
      },
      "execution_count": 14,
      "outputs": [
        {
          "output_type": "execute_result",
          "data": {
            "text/plain": [
              "array(['7'], dtype='<U1')"
            ]
          },
          "metadata": {},
          "execution_count": 14
        }
      ]
    },
    {
      "cell_type": "markdown",
      "metadata": {
        "id": "kE7UFx7OrTBr"
      },
      "source": [
        "#### Call decision_function() method to return score for each instance "
      ]
    },
    {
      "cell_type": "code",
      "metadata": {
        "id": "2pzYdm9UrTBs",
        "outputId": "5bcb608a-f08b-402b-d994-100dddecbd1d",
        "colab": {
          "base_uri": "https://localhost:8080/"
        }
      },
      "source": [
        "# CODE HERE\n",
        "some_digit_scores = sgd_clf.decision_function([some_digit])\n",
        "some_digit_scores"
      ],
      "execution_count": 15,
      "outputs": [
        {
          "output_type": "execute_result",
          "data": {
            "text/plain": [
              "array([[-33506.85009602, -28509.10812445, -18120.25914177,\n",
              "         -9478.13332556, -17579.77485708, -17841.22020359,\n",
              "        -54225.99263917,   8654.14872903,  -5276.98737799,\n",
              "         -5608.78115141]])"
            ]
          },
          "metadata": {},
          "execution_count": 15
        }
      ]
    },
    {
      "cell_type": "markdown",
      "metadata": {
        "id": "qORDmctWrTBt"
      },
      "source": [
        "#### find highest score "
      ]
    },
    {
      "cell_type": "code",
      "metadata": {
        "id": "snNAridYrTBu",
        "outputId": "32747c8f-c35c-4fbf-dbdf-dfe623ed7042",
        "colab": {
          "base_uri": "https://localhost:8080/"
        }
      },
      "source": [
        "# CODE HERE\n",
        "np.argmax(some_digit_scores)"
      ],
      "execution_count": 16,
      "outputs": [
        {
          "output_type": "execute_result",
          "data": {
            "text/plain": [
              "7"
            ]
          },
          "metadata": {},
          "execution_count": 16
        }
      ]
    },
    {
      "cell_type": "markdown",
      "metadata": {
        "id": "FPz3QrbArTBu"
      },
      "source": [
        "#### list the target classes"
      ]
    },
    {
      "cell_type": "code",
      "metadata": {
        "id": "qrS46yuirTBv",
        "outputId": "07bcbaf9-86f8-4127-ae9d-38ac113e8712",
        "colab": {
          "base_uri": "https://localhost:8080/"
        }
      },
      "source": [
        "# CODE HERE\n",
        "sgd_clf.classes_"
      ],
      "execution_count": 17,
      "outputs": [
        {
          "output_type": "execute_result",
          "data": {
            "text/plain": [
              "array(['0', '1', '2', '3', '4', '5', '6', '7', '8', '9'], dtype='<U1')"
            ]
          },
          "metadata": {},
          "execution_count": 17
        }
      ]
    },
    {
      "cell_type": "markdown",
      "metadata": {
        "id": "2TbllQderTBv"
      },
      "source": [
        "#### Find the the target class for 7"
      ]
    },
    {
      "cell_type": "code",
      "metadata": {
        "id": "lfAWQnVprTBw",
        "outputId": "f16bdc43-60d9-45e9-f5a7-5c5d2cad2d34",
        "colab": {
          "base_uri": "https://localhost:8080/",
          "height": 35
        }
      },
      "source": [
        "# CODE HERE\n",
        "# if you got stuck use GOOGLE\n",
        "sgd_clf.classes_[7]"
      ],
      "execution_count": 19,
      "outputs": [
        {
          "output_type": "execute_result",
          "data": {
            "text/plain": [
              "'7'"
            ],
            "application/vnd.google.colaboratory.intrinsic+json": {
              "type": "string"
            }
          },
          "metadata": {},
          "execution_count": 19
        }
      ]
    },
    {
      "cell_type": "markdown",
      "metadata": {
        "id": "ujnFWm-RrTBx"
      },
      "source": [
        "#### Force ScikitLearn to use one-versus-one"
      ]
    },
    {
      "cell_type": "code",
      "metadata": {
        "id": "6zN2QYJ0rTBx"
      },
      "source": [
        "from sklearn.multiclass import OneVsOneClassifier"
      ],
      "execution_count": 20,
      "outputs": []
    },
    {
      "cell_type": "code",
      "metadata": {
        "id": "iI43bCZnrTBx",
        "outputId": "fdf4fc1e-fb40-4ecb-a0f4-bb4f7a916f40",
        "colab": {
          "base_uri": "https://localhost:8080/"
        }
      },
      "source": [
        "# CODE HERE\n",
        "ovo_clf = OneVsOneClassifier(sgd_clf)\n",
        "\n",
        "ovo_clf.fit(X_train, y_train)\n",
        "\n",
        "ovo_clf.predict([some_digit])"
      ],
      "execution_count": 22,
      "outputs": [
        {
          "output_type": "execute_result",
          "data": {
            "text/plain": [
              "array(['7'], dtype=object)"
            ]
          },
          "metadata": {},
          "execution_count": 22
        }
      ]
    },
    {
      "cell_type": "markdown",
      "metadata": {
        "id": "kZcNpAenrTBy"
      },
      "source": [
        "#### find how many classifier OvO used"
      ]
    },
    {
      "cell_type": "code",
      "metadata": {
        "id": "Qj-h_2kOrTBy",
        "outputId": "3dc93ba7-fcb3-4874-c093-93f37dba62eb",
        "colab": {
          "base_uri": "https://localhost:8080/"
        }
      },
      "source": [
        "# CODE HERE\n",
        "len(ovo_clf.estimators_)"
      ],
      "execution_count": 23,
      "outputs": [
        {
          "output_type": "execute_result",
          "data": {
            "text/plain": [
              "45"
            ]
          },
          "metadata": {},
          "execution_count": 23
        }
      ]
    },
    {
      "cell_type": "markdown",
      "metadata": {
        "id": "jY_URTfErTBz"
      },
      "source": [
        "#### Train  RandomForestClassifier "
      ]
    },
    {
      "cell_type": "code",
      "metadata": {
        "id": "ij6mGZvWrTBz"
      },
      "source": [
        "from sklearn.ensemble import RandomForestClassifier\n",
        "forest_clf = RandomForestClassifier(random_state=42)"
      ],
      "execution_count": 24,
      "outputs": []
    },
    {
      "cell_type": "code",
      "metadata": {
        "id": "mLvACTVkrTB0",
        "outputId": "b264f0f2-661d-4d52-8d64-e3b1b300c875",
        "colab": {
          "base_uri": "https://localhost:8080/"
        }
      },
      "source": [
        "# CODE HERE\n",
        "forest_clf.fit(X_train, y_train)\n",
        "\n",
        "forest_clf.predict([some_digit])"
      ],
      "execution_count": 25,
      "outputs": [
        {
          "output_type": "execute_result",
          "data": {
            "text/plain": [
              "array(['7'], dtype=object)"
            ]
          },
          "metadata": {},
          "execution_count": 25
        }
      ]
    },
    {
      "cell_type": "markdown",
      "metadata": {
        "id": "RAF55oQtrTB1"
      },
      "source": [
        "#### call predict_proba() to get the list of probabilities that the classifier assigned to each instance for each class"
      ]
    },
    {
      "cell_type": "code",
      "metadata": {
        "id": "Irh9e-QbrTB1",
        "colab": {
          "base_uri": "https://localhost:8080/"
        },
        "outputId": "abe2cac1-87ea-4c1f-8095-96ef139ff11e"
      },
      "source": [
        "forest_clf.predict_proba([some_digit])"
      ],
      "execution_count": 26,
      "outputs": [
        {
          "output_type": "execute_result",
          "data": {
            "text/plain": [
              "array([[0., 0., 0., 0., 0., 0., 0., 1., 0., 0.]])"
            ]
          },
          "metadata": {},
          "execution_count": 26
        }
      ]
    },
    {
      "cell_type": "markdown",
      "metadata": {
        "id": "ds_FKkd8rTB1"
      },
      "source": [
        "#### Find accurcy using cross validation score ()"
      ]
    },
    {
      "cell_type": "code",
      "metadata": {
        "id": "R4OUbQutrTB2"
      },
      "source": [
        "from sklearn.model_selection import cross_val_score"
      ],
      "execution_count": 27,
      "outputs": []
    },
    {
      "cell_type": "code",
      "metadata": {
        "id": "r33tbcVurTB2",
        "outputId": "bd551f6e-d574-4941-9d86-8db22d198479",
        "colab": {
          "base_uri": "https://localhost:8080/"
        }
      },
      "source": [
        "# CODE HERE\n",
        "cross_val_score(forest_clf, X_train, y_train, cv=3, scoring=\"accuracy\")"
      ],
      "execution_count": 28,
      "outputs": [
        {
          "output_type": "execute_result",
          "data": {
            "text/plain": [
              "array([0.96405, 0.965  , 0.96765])"
            ]
          },
          "metadata": {},
          "execution_count": 28
        }
      ]
    },
    {
      "cell_type": "markdown",
      "metadata": {
        "id": "-jzw9z22rTB2"
      },
      "source": [
        "#### to get better accurcy try scaling input"
      ]
    },
    {
      "cell_type": "code",
      "metadata": {
        "id": "Z87Bmth8rTB3"
      },
      "source": [
        "from sklearn.preprocessing import StandardScaler"
      ],
      "execution_count": 29,
      "outputs": []
    },
    {
      "cell_type": "code",
      "metadata": {
        "id": "ahuwFw8GrTB3",
        "outputId": "898bb892-05d0-4d0d-c118-9e2c9065cba5",
        "colab": {
          "base_uri": "https://localhost:8080/"
        }
      },
      "source": [
        "# CODE HERE\n",
        "scaler = StandardScaler()\n",
        "X_train_scaled = scaler.fit_transform(X_train.astype(np.float64))\n",
        "cross_val_score(sgd_clf, X_train_scaled, y_train, cv=3, scoring=\"accuracy\")"
      ],
      "execution_count": 30,
      "outputs": [
        {
          "output_type": "stream",
          "name": "stderr",
          "text": [
            "/usr/local/lib/python3.7/dist-packages/sklearn/linear_model/_stochastic_gradient.py:700: ConvergenceWarning: Maximum number of iteration reached before convergence. Consider increasing max_iter to improve the fit.\n",
            "  ConvergenceWarning,\n"
          ]
        },
        {
          "output_type": "execute_result",
          "data": {
            "text/plain": [
              "array([0.90425, 0.90235, 0.89945])"
            ]
          },
          "metadata": {},
          "execution_count": 30
        }
      ]
    },
    {
      "cell_type": "markdown",
      "metadata": {
        "id": "hoevqgexrTB4"
      },
      "source": [
        "## Error Analysis"
      ]
    },
    {
      "cell_type": "markdown",
      "metadata": {
        "id": "oJRRCJzXrTB4"
      },
      "source": [
        "#### Take a look at the confusion matrix"
      ]
    },
    {
      "cell_type": "code",
      "metadata": {
        "id": "QjEb7wMMrTB4"
      },
      "source": [
        "from sklearn.model_selection import cross_val_predict\n",
        "from sklearn.metrics import confusion_matrix"
      ],
      "execution_count": 31,
      "outputs": []
    },
    {
      "cell_type": "code",
      "metadata": {
        "id": "dCNsUwlXrTB4",
        "outputId": "efcde22c-a28a-4904-c722-7978419a9462",
        "colab": {
          "base_uri": "https://localhost:8080/"
        }
      },
      "source": [
        "# CODE HERE\n",
        "y_train_pred = cross_val_predict(sgd_clf, X_train_scaled, y_train, cv=3)\n",
        "conf_mx = confusion_matrix(y_train, y_train_pred)\n",
        "conf_mx"
      ],
      "execution_count": 32,
      "outputs": [
        {
          "output_type": "stream",
          "name": "stderr",
          "text": [
            "/usr/local/lib/python3.7/dist-packages/sklearn/linear_model/_stochastic_gradient.py:700: ConvergenceWarning: Maximum number of iteration reached before convergence. Consider increasing max_iter to improve the fit.\n",
            "  ConvergenceWarning,\n"
          ]
        },
        {
          "output_type": "execute_result",
          "data": {
            "text/plain": [
              "array([[5608,    0,   16,    6,    9,   44,   33,    5,  201,    1],\n",
              "       [   0, 6433,   41,   23,    3,   40,    5,   10,  175,   12],\n",
              "       [  31,   26, 5244,   94,   72,   23,   80,   36,  341,   11],\n",
              "       [  24,   24,  115, 5259,    0,  207,   28,   46,  360,   68],\n",
              "       [  10,   15,   43,   13, 5228,    8,   42,   21,  290,  172],\n",
              "       [  28,   16,   24,  154,   52, 4490,   80,   19,  491,   67],\n",
              "       [  28,   17,   47,    2,   45,   97, 5542,    8,  132,    0],\n",
              "       [  20,   12,   52,   28,   47,   11,    4, 5719,  156,  216],\n",
              "       [  16,   65,   44,  102,    2,  121,   28,    7, 5422,   44],\n",
              "       [  26,   20,   28,   63,  120,   32,    1,  175,  308, 5176]])"
            ]
          },
          "metadata": {},
          "execution_count": 32
        }
      ]
    },
    {
      "cell_type": "markdown",
      "metadata": {
        "id": "hBHF2iJWrTB5"
      },
      "source": [
        "#### using Matplotlib’s matshow() function look at an image representation of the confusion matrix"
      ]
    },
    {
      "cell_type": "code",
      "metadata": {
        "id": "_nMxOLjtrTB5",
        "outputId": "1156838d-7e78-4db3-b9b9-03553923741b",
        "colab": {
          "base_uri": "https://localhost:8080/",
          "height": 275
        }
      },
      "source": [
        "# CODE HERE\n",
        "plt.matshow(conf_mx, cmap=plt.cm.gray)\n",
        "plt.show()"
      ],
      "execution_count": 34,
      "outputs": [
        {
          "output_type": "display_data",
          "data": {
            "text/plain": [
              "<Figure size 288x288 with 1 Axes>"
            ],
            "image/png": "[encoded data removed]"
          },
          "metadata": {
            "needs_background": "light"
          }
        }
      ]
    },
    {
      "cell_type": "markdown",
      "metadata": {
        "id": "Xm6cFW72rTB6"
      },
      "source": [
        "#### Dividing each value in the confusion matrix by the number of images in the corresponding class"
      ]
    },
    {
      "cell_type": "code",
      "metadata": {
        "id": "hNDkHceZrTB6"
      },
      "source": [
        "row_sums = conf_mx.sum(axis=1, keepdims=True)\n",
        "norm_conf_mx = conf_mx / row_sums"
      ],
      "execution_count": 35,
      "outputs": []
    },
    {
      "cell_type": "markdown",
      "metadata": {
        "id": "7wdHyF8urTB6"
      },
      "source": [
        "#### fill the diagonal with zeros to keep only the errors"
      ]
    },
    {
      "cell_type": "code",
      "metadata": {
        "scrolled": true,
        "id": "oSWl-lE7rTB7",
        "outputId": "5ab010f4-8375-4587-82ee-7aadcb130419",
        "colab": {
          "base_uri": "https://localhost:8080/",
          "height": 275
        }
      },
      "source": [
        "# CODE HERE\n",
        "np.fill_diagonal(norm_conf_mx, 0)\n",
        "plt.matshow(norm_conf_mx, cmap=plt.cm.gray)\n",
        "plt.show()"
      ],
      "execution_count": 36,
      "outputs": [
        {
          "output_type": "display_data",
          "data": {
            "text/plain": [
              "<Figure size 288x288 with 1 Axes>"
            ],
            "image/png": "[encoded data removed]"
          },
          "metadata": {
            "needs_background": "light"
          }
        }
      ]
    },
    {
      "cell_type": "code",
      "metadata": {
        "id": "D0l_VaVgrTB7"
      },
      "source": [
        "def plot_digits(instances, images_per_row=10, **options):\n",
        "    size = 28\n",
        "    images_per_row = min(len(instances), images_per_row)\n",
        "    images = [instance.reshape(size,size) for instance in instances]\n",
        "    n_rows = (len(instances) - 1) // images_per_row + 1\n",
        "    row_images = []\n",
        "    n_empty = n_rows * images_per_row - len(instances)\n",
        "    images.append(np.zeros((size, size * n_empty)))\n",
        "    for row in range(n_rows):\n",
        "        rimages = images[row * images_per_row : (row + 1) * images_per_row]\n",
        "        row_images.append(np.concatenate(rimages, axis=1))\n",
        "    image = np.concatenate(row_images, axis=0)\n",
        "    plt.imshow(image, cmap = matplotlib.cm.binary, **options)\n",
        "    plt.axis(\"off\")"
      ],
      "execution_count": 37,
      "outputs": []
    },
    {
      "cell_type": "code",
      "metadata": {
        "id": "2H_6XdKerTB8",
        "outputId": "668f51ad-2aa5-49d6-81a1-697b3b1d290a",
        "colab": {
          "base_uri": "https://localhost:8080/",
          "height": 466
        }
      },
      "source": [
        "cl_a, cl_b = '3', '5'\n",
        "X_aa = X_train[(y_train == cl_a) & (y_train_pred == cl_a)]\n",
        "X_ab = X_train[(y_train == cl_a) & (y_train_pred == cl_b)]\n",
        "X_ba = X_train[(y_train == cl_b) & (y_train_pred == cl_a)]\n",
        "X_bb = X_train[(y_train == cl_b) & (y_train_pred == cl_b)]\n",
        "plt.figure(figsize=(8,8))\n",
        "plt.subplot(221); plot_digits(X_aa[:25], images_per_row=5)\n",
        "plt.subplot(222); plot_digits(X_ab[:25], images_per_row=5)\n",
        "plt.subplot(223); plot_digits(X_ba[:25], images_per_row=5)\n",
        "plt.subplot(224); plot_digits(X_bb[:25], images_per_row=5)\n",
        "plt.show()\n"
      ],
      "execution_count": 38,
      "outputs": [
        {
          "output_type": "display_data",
          "data": {
            "text/plain": [
              "<Figure size 576x576 with 4 Axes>"
            ],
            "image/png": "[encoded data removed]"
          },
          "metadata": {
            "needs_background": "light"
          }
        }
      ]
    },
    {
      "cell_type": "markdown",
      "metadata": {
        "id": "dCLTtG50rTB9"
      },
      "source": [
        "## Multilabel Classification"
      ]
    },
    {
      "cell_type": "markdown",
      "metadata": {
        "id": "CRVGta9irTB9"
      },
      "source": [
        "#### creates a y_multilabel array containing two target labels for each digit image"
      ]
    },
    {
      "cell_type": "code",
      "metadata": {
        "id": "ImrC91BPrTB9",
        "outputId": "78c5fc01-efa1-41ea-f0b7-d4416dd07254",
        "colab": {
          "base_uri": "https://localhost:8080/"
        }
      },
      "source": [
        "from sklearn.neighbors import KNeighborsClassifier\n",
        "y_train_large = (y_train >= '7')\n",
        "y_train_odd = (y_train == '1')\n",
        "y_multilabel = np.c_[y_train_large, y_train_odd]\n",
        "knn_clf = KNeighborsClassifier()\n",
        "knn_clf.fit(X_train, y_multilabel)"
      ],
      "execution_count": 39,
      "outputs": [
        {
          "output_type": "execute_result",
          "data": {
            "text/plain": [
              "KNeighborsClassifier()"
            ]
          },
          "metadata": {},
          "execution_count": 39
        }
      ]
    },
    {
      "cell_type": "markdown",
      "metadata": {
        "id": "nJcwu7UfrTB-"
      },
      "source": [
        "#### find the prediction"
      ]
    },
    {
      "cell_type": "code",
      "metadata": {
        "id": "0n2fcDbArTB-",
        "outputId": "8a41ea99-b993-4894-9a33-6a28c989d95d",
        "colab": {
          "base_uri": "https://localhost:8080/"
        }
      },
      "source": [
        "# CODE HERE\n",
        "knn_clf.predict([some_digit])"
      ],
      "execution_count": 40,
      "outputs": [
        {
          "output_type": "execute_result",
          "data": {
            "text/plain": [
              "array([[ True, False]])"
            ]
          },
          "metadata": {},
          "execution_count": 40
        }
      ]
    },
    {
      "cell_type": "markdown",
      "metadata": {
        "id": "ymiEXPfprTB-"
      },
      "source": [
        "#### computes the average F1 score across all labels\n",
        "***Warning: the following cell may take a very long time (possibly hours depending on your hardware)***"
      ]
    },
    {
      "cell_type": "code",
      "metadata": {
        "id": "tOrUjiMgrTB-"
      },
      "source": [
        "#y_train_knn_pred = cross_val_predict(knn_clf, X_train, y_train, cv=3)\n",
        "#f1_score(y_train, y_train_knn_pred, average=\"macro\")"
      ],
      "execution_count": null,
      "outputs": []
    },
    {
      "cell_type": "markdown",
      "metadata": {
        "id": "cWLtvNU5rTB_"
      },
      "source": [
        "## Multioutput Classification\n"
      ]
    },
    {
      "cell_type": "code",
      "metadata": {
        "id": "2FS4erJ1rTB_"
      },
      "source": [
        "noise = np.random.randint(0, 100, (len(X_train), 784))\n",
        "X_train_mod = X_train + noise\n",
        "noise = np.random.randint(0, 100, (len(X_test), 784))\n",
        "X_test_mod = X_test + noise\n",
        "y_train_mod = X_train\n",
        "y_test_mod = X_test"
      ],
      "execution_count": 41,
      "outputs": []
    },
    {
      "cell_type": "markdown",
      "metadata": {
        "id": "7kqvQk1qrTB_"
      },
      "source": [
        "#### Let’s take a peek at an image from the test set"
      ]
    },
    {
      "cell_type": "code",
      "metadata": {
        "id": "jzaG_GAArTCA",
        "outputId": "d178e1a1-fcaa-46bc-d606-5c5f46c895b7",
        "colab": {
          "base_uri": "https://localhost:8080/"
        }
      },
      "source": [
        "# CODE HERE\n",
        "knn_clf.fit(X_train_mod, y_train_mod)"
      ],
      "execution_count": 82,
      "outputs": [
        {
          "output_type": "execute_result",
          "data": {
            "text/plain": [
              "KNeighborsClassifier()"
            ]
          },
          "metadata": {},
          "execution_count": 82
        }
      ]
    },
    {
      "cell_type": "code",
      "source": [
        "some_index = X_test_mod.iloc[[np.random.randint(0, 783)]]\n",
        "clean_digit = knn_clf.predict(some_index)\n",
        "plot_digits(clean_digit[:25])"
      ],
      "metadata": {
        "colab": {
          "base_uri": "https://localhost:8080/",
          "height": 248
        },
        "id": "XOAONAqunEb7",
        "outputId": "957013ab-c94c-4b91-eafd-bc7bd2e26813"
      },
      "execution_count": 97,
      "outputs": [
        {
          "output_type": "display_data",
          "data": {
            "text/plain": [
              "<Figure size 432x288 with 1 Axes>"
            ],
            "image/png": "[encoded data removed]"
          },
          "metadata": {
            "needs_background": "light"
          }
        }
      ]
    },
    {
      "cell_type": "markdown",
      "metadata": {
        "id": "IsM8nCFCrTCA"
      },
      "source": [
        "# Congrats you've finished your first classification Project🥳 !\n",
        "# #shAI_Club"
      ]
    }
  ]
}