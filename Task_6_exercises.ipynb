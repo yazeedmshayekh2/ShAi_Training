{
  "cells": [
    {
      "cell_type": "markdown",
      "metadata": {
        "id": "view-in-github",
        "colab_type": "text"
      },
      "source": [
        "<a href=\"https://colab.research.google.com/github/yazeedmshayekh2/ShAi_Training/blob/main/Task_6_exercises.ipynb\" target=\"_parent\"><img src=\"https://colab.research.google.com/assets/colab-badge.svg\" alt=\"Open In Colab\"/></a>"
      ]
    },
    {
      "cell_type": "markdown",
      "metadata": {
        "id": "uua1wvw7iQB4"
      },
      "source": [
        "![](logo1.jpg)"
      ]
    },
    {
      "cell_type": "markdown",
      "metadata": {
        "id": "IMnWC3LuifEi"
      },
      "source": [
        "# **shAI Training 2021 | Level 1**\n",
        "\n",
        "## Task #6 (End-to-End ML Project {part_2})"
      ]
    },
    {
      "cell_type": "markdown",
      "metadata": {
        "id": "1rbe_ZnKi-uY"
      },
      "source": [
        "## Welcome to the exercises for reviewing second part of end to end ML project.\n",
        "**Make sure that you read and understand ch2 from the hands-on ML book (page 72 to the end of the chapter ) before start with this notebook.**\n",
        "\n",
        "**If you stuck with anything reread that part from the book and feel free to ask about anything in the messenger group as you go along.**\n",
        "\n",
        " ## Good Luck : )"
      ]
    },
    {
      "cell_type": "markdown",
      "metadata": {
        "id": "zAbRZ0fwfOb4"
      },
      "source": [
        "## first run the following cell for the first part of the project to continue your work "
      ]
    },
    {
      "cell_type": "code",
      "execution_count": 1,
      "metadata": {
        "id": "Q3v160SJfL7U"
      },
      "outputs": [],
      "source": [
        "import numpy as np\n",
        "import pandas as pd\n",
        "import matplotlib.pyplot as plt\n",
        "%matplotlib inline \n",
        "import seaborn as sns\n",
        "from sklearn.model_selection import train_test_split\n",
        "from pandas.plotting import scatter_matrix\n",
        "from sklearn.impute import SimpleImputer\n",
        "from sklearn.preprocessing import OneHotEncoder\n",
        "from sklearn.base import BaseEstimator, TransformerMixin\n",
        "from sklearn.pipeline import Pipeline\n",
        "from sklearn.preprocessing import StandardScaler\n",
        "from sklearn.compose import ColumnTransformer"
      ]
    },
    {
      "cell_type": "code",
      "execution_count": 2,
      "metadata": {
        "id": "ObbhNRgSfu6_"
      },
      "outputs": [],
      "source": [
        "import os\n",
        "import tarfile\n",
        "import urllib\n",
        "DOWNLOAD_ROOT = \"https://raw.githubusercontent.com/ageron/handson-ml2/master/\"\n",
        "HOUSING_PATH = os.path.join(\"datasets\", \"housing\")\n",
        "HOUSING_URL = DOWNLOAD_ROOT + \"datasets/housing/housing.tgz\"\n",
        "\n",
        "def fetch_housing_data(housing_url=HOUSING_URL, housing_path=HOUSING_PATH):\n",
        "    os.makedirs(housing_path, exist_ok=True)\n",
        "    tgz_path = os.path.join(housing_path, \"housing.tgz\")\n",
        "    urllib.request.urlretrieve(housing_url, tgz_path)\n",
        "    housing_tgz = tarfile.open(tgz_path)\n",
        "    housing_tgz.extractall(path=housing_path)\n",
        "    housing_tgz.close()\n",
        "    \n",
        "def load_housing_data(housing_path=HOUSING_PATH):\n",
        "   csv_path = os.path.join(housing_path, \"housing.csv\")\n",
        "   return pd.read_csv(csv_path)\n",
        "   \n",
        "fetch_housing_data()\n",
        "housing = load_housing_data()\n",
        "\n",
        "rooms_ix, bedrooms_ix, population_ix, household_ix = [\n",
        "    list(housing.columns).index(col)\n",
        "    for col in (\"total_rooms\", \"total_bedrooms\", \"population\", \"households\")]\n",
        "\n",
        "class CombinedAttributesAdder(BaseEstimator, TransformerMixin):\n",
        "    def __init__(self, add_bedrooms_per_room = True):\n",
        "        self.add_bedrooms_per_room = add_bedrooms_per_room\n",
        "    def fit(self, X, y=None):\n",
        "        return self  # nothing else to do\n",
        "    def transform(self, X, y=None):\n",
        "        rooms_per_household = X[:, rooms_ix] / X[:, household_ix]\n",
        "        population_per_household = X[:, population_ix] / X[:, household_ix]\n",
        "        if self.add_bedrooms_per_room:\n",
        "            bedrooms_per_room = X[:, bedrooms_ix] / X[:, rooms_ix]\n",
        "            return np.c_[X, rooms_per_household, population_per_household,\n",
        "                         bedrooms_per_room]\n",
        "        else:\n",
        "            return np.c_[X, rooms_per_household, population_per_household]\n",
        "        \n",
        "train_set, test_set = train_test_split(housing, test_size=0.2, random_state=42)\n",
        "housing = train_set.drop(\"median_house_value\", axis=1)\n",
        "housing_labels = train_set[\"median_house_value\"].copy()\n",
        "\n",
        "housing_num = housing.drop(\"ocean_proximity\", axis=1)\n",
        "num_attribs = list(housing_num)\n",
        "cat_attribs = [\"ocean_proximity\"]\n",
        "\n",
        "num_pipeline = Pipeline([\n",
        " ('imputer', SimpleImputer(strategy=\"median\")),\n",
        " ('attribs_adder', CombinedAttributesAdder()),\n",
        " ('std_scaler', StandardScaler())])\n",
        "\n",
        "full_pipeline = ColumnTransformer([\n",
        " (\"num\", num_pipeline, num_attribs),\n",
        " (\"cat\", OneHotEncoder(), cat_attribs)])\n",
        "\n",
        "housing_prepared = full_pipeline.fit_transform(housing)"
      ]
    },
    {
      "cell_type": "code",
      "source": [
        "housing"
      ],
      "metadata": {
        "colab": {
          "base_uri": "https://localhost:8080/",
          "height": 424
        },
        "id": "pDmMXn4s6rq0",
        "outputId": "032d41f1-55c5-46b0-a7ce-7ae54f09c77b"
      },
      "execution_count": 3,
      "outputs": [
        {
          "output_type": "execute_result",
          "data": {
            "text/plain": [
              "       longitude  latitude  housing_median_age  total_rooms  total_bedrooms  \\\n",
              "14196    -117.03     32.71                33.0       3126.0           627.0   \n",
              "8267     -118.16     33.77                49.0       3382.0           787.0   \n",
              "17445    -120.48     34.66                 4.0       1897.0           331.0   \n",
              "14265    -117.11     32.69                36.0       1421.0           367.0   \n",
              "2271     -119.80     36.78                43.0       2382.0           431.0   \n",
              "...          ...       ...                 ...          ...             ...   \n",
              "11284    -117.96     33.78                35.0       1330.0           201.0   \n",
              "11964    -117.43     34.02                33.0       3084.0           570.0   \n",
              "5390     -118.38     34.03                36.0       2101.0           569.0   \n",
              "860      -121.96     37.58                15.0       3575.0           597.0   \n",
              "15795    -122.42     37.77                52.0       4226.0          1315.0   \n",
              "\n",
              "       population  households  median_income ocean_proximity  \n",
              "14196      2300.0       623.0         3.2596      NEAR OCEAN  \n",
              "8267       1314.0       756.0         3.8125      NEAR OCEAN  \n",
              "17445       915.0       336.0         4.1563      NEAR OCEAN  \n",
              "14265      1418.0       355.0         1.9425      NEAR OCEAN  \n",
              "2271        874.0       380.0         3.5542          INLAND  \n",
              "...           ...         ...            ...             ...  \n",
              "11284       658.0       217.0         6.3700       <1H OCEAN  \n",
              "11964      1753.0       449.0         3.0500          INLAND  \n",
              "5390       1756.0       527.0         2.9344       <1H OCEAN  \n",
              "860        1777.0       559.0         5.7192       <1H OCEAN  \n",
              "15795      2619.0      1242.0         2.5755        NEAR BAY  \n",
              "\n",
              "[16512 rows x 9 columns]"
            ],
            "text/html": [
              "\n",
              "  <div id=\"df-e7d87ebd-ae3f-43fc-b3e7-87e06cf82cda\">\n",
              "    <div class=\"colab-df-container\">\n",
              "      <div>\n",
              "<style scoped>\n",
              "    .dataframe tbody tr th:only-of-type {\n",
              "        vertical-align: middle;\n",
              "    }\n",
              "\n",
              "    .dataframe tbody tr th {\n",
              "        vertical-align: top;\n",
              "    }\n",
              "\n",
              "    .dataframe thead th {\n",
              "        text-align: right;\n",
              "    }\n",
              "</style>\n",
              "<table border=\"1\" class=\"dataframe\">\n",
              "  <thead>\n",
              "    <tr style=\"text-align: right;\">\n",
              "      <th></th>\n",
              "      <th>longitude</th>\n",
              "      <th>latitude</th>\n",
              "      <th>housing_median_age</th>\n",
              "      <th>total_rooms</th>\n",
              "      <th>total_bedrooms</th>\n",
              "      <th>population</th>\n",
              "      <th>households</th>\n",
              "      <th>median_income</th>\n",
              "      <th>ocean_proximity</th>\n",
              "    </tr>\n",
              "  </thead>\n",
              "  <tbody>\n",
              "    <tr>\n",
              "      <th>14196</th>\n",
              "      <td>-117.03</td>\n",
              "      <td>32.71</td>\n",
              "      <td>33.0</td>\n",
              "      <td>3126.0</td>\n",
              "      <td>627.0</td>\n",
              "      <td>2300.0</td>\n",
              "      <td>623.0</td>\n",
              "      <td>3.2596</td>\n",
              "      <td>NEAR OCEAN</td>\n",
              "    </tr>\n",
              "    <tr>\n",
              "      <th>8267</th>\n",
              "      <td>-118.16</td>\n",
              "      <td>33.77</td>\n",
              "      <td>49.0</td>\n",
              "      <td>3382.0</td>\n",
              "      <td>787.0</td>\n",
              "      <td>1314.0</td>\n",
              "      <td>756.0</td>\n",
              "      <td>3.8125</td>\n",
              "      <td>NEAR OCEAN</td>\n",
              "    </tr>\n",
              "    <tr>\n",
              "      <th>17445</th>\n",
              "      <td>-120.48</td>\n",
              "      <td>34.66</td>\n",
              "      <td>4.0</td>\n",
              "      <td>1897.0</td>\n",
              "      <td>331.0</td>\n",
              "      <td>915.0</td>\n",
              "      <td>336.0</td>\n",
              "      <td>4.1563</td>\n",
              "      <td>NEAR OCEAN</td>\n",
              "    </tr>\n",
              "    <tr>\n",
              "      <th>14265</th>\n",
              "      <td>-117.11</td>\n",
              "      <td>32.69</td>\n",
              "      <td>36.0</td>\n",
              "      <td>1421.0</td>\n",
              "      <td>367.0</td>\n",
              "      <td>1418.0</td>\n",
              "      <td>355.0</td>\n",
              "      <td>1.9425</td>\n",
              "      <td>NEAR OCEAN</td>\n",
              "    </tr>\n",
              "    <tr>\n",
              "      <th>2271</th>\n",
              "      <td>-119.80</td>\n",
              "      <td>36.78</td>\n",
              "      <td>43.0</td>\n",
              "      <td>2382.0</td>\n",
              "      <td>431.0</td>\n",
              "      <td>874.0</td>\n",
              "      <td>380.0</td>\n",
              "      <td>3.5542</td>\n",
              "      <td>INLAND</td>\n",
              "    </tr>\n",
              "    <tr>\n",
              "      <th>...</th>\n",
              "      <td>...</td>\n",
              "      <td>...</td>\n",
              "      <td>...</td>\n",
              "      <td>...</td>\n",
              "      <td>...</td>\n",
              "      <td>...</td>\n",
              "      <td>...</td>\n",
              "      <td>...</td>\n",
              "      <td>...</td>\n",
              "    </tr>\n",
              "    <tr>\n",
              "      <th>11284</th>\n",
              "      <td>-117.96</td>\n",
              "      <td>33.78</td>\n",
              "      <td>35.0</td>\n",
              "      <td>1330.0</td>\n",
              "      <td>201.0</td>\n",
              "      <td>658.0</td>\n",
              "      <td>217.0</td>\n",
              "      <td>6.3700</td>\n",
              "      <td>&lt;1H OCEAN</td>\n",
              "    </tr>\n",
              "    <tr>\n",
              "      <th>11964</th>\n",
              "      <td>-117.43</td>\n",
              "      <td>34.02</td>\n",
              "      <td>33.0</td>\n",
              "      <td>3084.0</td>\n",
              "      <td>570.0</td>\n",
              "      <td>1753.0</td>\n",
              "      <td>449.0</td>\n",
              "      <td>3.0500</td>\n",
              "      <td>INLAND</td>\n",
              "    </tr>\n",
              "    <tr>\n",
              "      <th>5390</th>\n",
              "      <td>-118.38</td>\n",
              "      <td>34.03</td>\n",
              "      <td>36.0</td>\n",
              "      <td>2101.0</td>\n",
              "      <td>569.0</td>\n",
              "      <td>1756.0</td>\n",
              "      <td>527.0</td>\n",
              "      <td>2.9344</td>\n",
              "      <td>&lt;1H OCEAN</td>\n",
              "    </tr>\n",
              "    <tr>\n",
              "      <th>860</th>\n",
              "      <td>-121.96</td>\n",
              "      <td>37.58</td>\n",
              "      <td>15.0</td>\n",
              "      <td>3575.0</td>\n",
              "      <td>597.0</td>\n",
              "      <td>1777.0</td>\n",
              "      <td>559.0</td>\n",
              "      <td>5.7192</td>\n",
              "      <td>&lt;1H OCEAN</td>\n",
              "    </tr>\n",
              "    <tr>\n",
              "      <th>15795</th>\n",
              "      <td>-122.42</td>\n",
              "      <td>37.77</td>\n",
              "      <td>52.0</td>\n",
              "      <td>4226.0</td>\n",
              "      <td>1315.0</td>\n",
              "      <td>2619.0</td>\n",
              "      <td>1242.0</td>\n",
              "      <td>2.5755</td>\n",
              "      <td>NEAR BAY</td>\n",
              "    </tr>\n",
              "  </tbody>\n",
              "</table>\n",
              "<p>16512 rows × 9 columns</p>\n",
              "</div>\n",
              "      <button class=\"colab-df-convert\" onclick=\"convertToInteractive('df-e7d87ebd-ae3f-43fc-b3e7-87e06cf82cda')\"\n",
              "              title=\"Convert this dataframe to an interactive table.\"\n",
              "              style=\"display:none;\">\n",
              "        \n",
              "  <svg xmlns=\"http://www.w3.org/2000/svg\" height=\"24px\"viewBox=\"0 0 24 24\"\n",
              "       width=\"24px\">\n",
              "    <path d=\"M0 0h24v24H0V0z\" fill=\"none\"/>\n",
              "    <path d=\"M18.56 5.44l.94 2.06.94-2.06 2.06-.94-2.06-.94-.94-2.06-.94 2.06-2.06.94zm-11 1L8.5 8.5l.94-2.06 2.06-.94-2.06-.94L8.5 2.5l-.94 2.06-2.06.94zm10 10l.94 2.06.94-2.06 2.06-.94-2.06-.94-.94-2.06-.94 2.06-2.06.94z\"/><path d=\"M17.41 7.96l-1.37-1.37c-.4-.4-.92-.59-1.43-.59-.52 0-1.04.2-1.43.59L10.3 9.45l-7.72 7.72c-.78.78-.78 2.05 0 2.83L4 21.41c.39.39.9.59 1.41.59.51 0 1.02-.2 1.41-.59l7.78-7.78 2.81-2.81c.8-.78.8-2.07 0-2.86zM5.41 20L4 18.59l7.72-7.72 1.47 1.35L5.41 20z\"/>\n",
              "  </svg>\n",
              "      </button>\n",
              "      \n",
              "  <style>\n",
              "    .colab-df-container {\n",
              "      display:flex;\n",
              "      flex-wrap:wrap;\n",
              "      gap: 12px;\n",
              "    }\n",
              "\n",
              "    .colab-df-convert {\n",
              "      background-color: #E8F0FE;\n",
              "      border: none;\n",
              "      border-radius: 50%;\n",
              "      cursor: pointer;\n",
              "      display: none;\n",
              "      fill: #1967D2;\n",
              "      height: 32px;\n",
              "      padding: 0 0 0 0;\n",
              "      width: 32px;\n",
              "    }\n",
              "\n",
              "    .colab-df-convert:hover {\n",
              "      background-color: #E2EBFA;\n",
              "      box-shadow: 0px 1px 2px rgba(60, 64, 67, 0.3), 0px 1px 3px 1px rgba(60, 64, 67, 0.15);\n",
              "      fill: #174EA6;\n",
              "    }\n",
              "\n",
              "    [theme=dark] .colab-df-convert {\n",
              "      background-color: #3B4455;\n",
              "      fill: #D2E3FC;\n",
              "    }\n",
              "\n",
              "    [theme=dark] .colab-df-convert:hover {\n",
              "      background-color: #434B5C;\n",
              "      box-shadow: 0px 1px 3px 1px rgba(0, 0, 0, 0.15);\n",
              "      filter: drop-shadow(0px 1px 2px rgba(0, 0, 0, 0.3));\n",
              "      fill: #FFFFFF;\n",
              "    }\n",
              "  </style>\n",
              "\n",
              "      <script>\n",
              "        const buttonEl =\n",
              "          document.querySelector('#df-e7d87ebd-ae3f-43fc-b3e7-87e06cf82cda button.colab-df-convert');\n",
              "        buttonEl.style.display =\n",
              "          google.colab.kernel.accessAllowed ? 'block' : 'none';\n",
              "\n",
              "        async function convertToInteractive(key) {\n",
              "          const element = document.querySelector('#df-e7d87ebd-ae3f-43fc-b3e7-87e06cf82cda');\n",
              "          const dataTable =\n",
              "            await google.colab.kernel.invokeFunction('convertToInteractive',\n",
              "                                                     [key], {});\n",
              "          if (!dataTable) return;\n",
              "\n",
              "          const docLinkHtml = 'Like what you see? Visit the ' +\n",
              "            '<a target=\"_blank\" href=https://colab.research.google.com/notebooks/data_table.ipynb>data table notebook</a>'\n",
              "            + ' to learn more about interactive tables.';\n",
              "          element.innerHTML = '';\n",
              "          dataTable['output_type'] = 'display_data';\n",
              "          await google.colab.output.renderOutput(dataTable, element);\n",
              "          const docLink = document.createElement('div');\n",
              "          docLink.innerHTML = docLinkHtml;\n",
              "          element.appendChild(docLink);\n",
              "        }\n",
              "      </script>\n",
              "    </div>\n",
              "  </div>\n",
              "  "
            ]
          },
          "metadata": {},
          "execution_count": 3
        }
      ]
    },
    {
      "cell_type": "code",
      "source": [
        "housing_labels"
      ],
      "metadata": {
        "colab": {
          "base_uri": "https://localhost:8080/"
        },
        "id": "pTCb0i5M8gr3",
        "outputId": "3e2149aa-5897-4d07-9c81-3e0e9d1cc364"
      },
      "execution_count": 4,
      "outputs": [
        {
          "output_type": "execute_result",
          "data": {
            "text/plain": [
              "14196    103000.0\n",
              "8267     382100.0\n",
              "17445    172600.0\n",
              "14265     93400.0\n",
              "2271      96500.0\n",
              "           ...   \n",
              "11284    229200.0\n",
              "11964     97800.0\n",
              "5390     222100.0\n",
              "860      283500.0\n",
              "15795    325000.0\n",
              "Name: median_house_value, Length: 16512, dtype: float64"
            ]
          },
          "metadata": {},
          "execution_count": 4
        }
      ]
    },
    {
      "cell_type": "markdown",
      "metadata": {
        "id": "wa6vPfm6jxsF"
      },
      "source": [
        "# 1- Select and Train a Model\n",
        "\n",
        "# Let’s first train a LinearRegression model "
      ]
    },
    {
      "cell_type": "code",
      "execution_count": 5,
      "metadata": {
        "id": "JCl0ZYDRjGz_",
        "colab": {
          "base_uri": "https://localhost:8080/"
        },
        "outputId": "7e08d5f4-9b21-4d79-f763-ee27b10f6dc3"
      },
      "outputs": [
        {
          "output_type": "execute_result",
          "data": {
            "text/plain": [
              "LinearRegression()"
            ]
          },
          "metadata": {},
          "execution_count": 5
        }
      ],
      "source": [
        "# CODE HERE\n",
        "from sklearn.linear_model import LinearRegression\n",
        "\n",
        "linear_reg = LinearRegression()\n",
        "linear_reg.fit(housing_prepared, housing_labels)"
      ]
    },
    {
      "cell_type": "markdown",
      "metadata": {
        "id": "_nDxOY7GmTNc"
      },
      "source": [
        "# First try it out on a few instances from the training set:\n"
      ]
    },
    {
      "cell_type": "code",
      "execution_count": 6,
      "metadata": {
        "id": "7Lx7VQm7pwSQ"
      },
      "outputs": [],
      "source": [
        "some_data = housing.iloc[:5]\n",
        "some_labels = housing_labels.iloc[:5]"
      ]
    },
    {
      "cell_type": "code",
      "source": [
        "some_labels"
      ],
      "metadata": {
        "colab": {
          "base_uri": "https://localhost:8080/"
        },
        "id": "gyYG3mWv6M0I",
        "outputId": "bbab0347-422c-4c21-9cb8-0badef2d3762"
      },
      "execution_count": 7,
      "outputs": [
        {
          "output_type": "execute_result",
          "data": {
            "text/plain": [
              "14196    103000.0\n",
              "8267     382100.0\n",
              "17445    172600.0\n",
              "14265     93400.0\n",
              "2271      96500.0\n",
              "Name: median_house_value, dtype: float64"
            ]
          },
          "metadata": {},
          "execution_count": 7
        }
      ]
    },
    {
      "cell_type": "code",
      "execution_count": 8,
      "metadata": {
        "id": "BU-ynaaIpYHO",
        "colab": {
          "base_uri": "https://localhost:8080/"
        },
        "outputId": "838ee1ea-b00e-4736-c3bf-56632ed35434"
      },
      "outputs": [
        {
          "output_type": "execute_result",
          "data": {
            "text/plain": [
              "0    181746.543596\n",
              "1    290558.749735\n",
              "2    244957.500178\n",
              "3    146498.510614\n",
              "4    163230.423939\n",
              "dtype: float64"
            ]
          },
          "metadata": {},
          "execution_count": 8
        }
      ],
      "source": [
        "# CODE HERE\n",
        "subset_to_train = full_pipeline.transform(some_data)\n",
        "subset_of_predictions= pd.Series(linear_reg.predict(subset_to_train))\n",
        "subset_of_predictions"
      ]
    },
    {
      "cell_type": "markdown",
      "metadata": {
        "id": "QjmwxoU-qFnb"
      },
      "source": [
        "# measure this regression model’s RMSE on the whole training set \n",
        "* sing Scikit-Learn’s mean_squared_error() function:"
      ]
    },
    {
      "cell_type": "code",
      "execution_count": 9,
      "metadata": {
        "id": "rczx22dFqRMc"
      },
      "outputs": [],
      "source": [
        "from sklearn.metrics import mean_squared_error"
      ]
    },
    {
      "cell_type": "code",
      "source": [
        "rmse_on_subset= np.sqrt(mean_squared_error(some_labels, subset_of_predictions))\n",
        "rmse_on_subset"
      ],
      "metadata": {
        "colab": {
          "base_uri": "https://localhost:8080/"
        },
        "id": "MDgsgxR_4OET",
        "outputId": "12a292aa-fff9-4630-caa6-b2d04dc992fc"
      },
      "execution_count": 10,
      "outputs": [
        {
          "output_type": "execute_result",
          "data": {
            "text/plain": [
              "73605.47230869903"
            ]
          },
          "metadata": {},
          "execution_count": 10
        }
      ]
    },
    {
      "cell_type": "code",
      "execution_count": 11,
      "metadata": {
        "id": "aCYZh9ExqWMJ",
        "colab": {
          "base_uri": "https://localhost:8080/"
        },
        "outputId": "c1c6ad84-f505-4048-a2fa-233cf1095a5d"
      },
      "outputs": [
        {
          "output_type": "execute_result",
          "data": {
            "text/plain": [
              "67593.20745775253"
            ]
          },
          "metadata": {},
          "execution_count": 11
        }
      ],
      "source": [
        "# CODE HERE\n",
        "predictions_linear= linear_reg.predict(housing_prepared)\n",
        "RMSE_linear = np.sqrt(mean_squared_error(housing_labels, predictions_linear))\n",
        "RMSE_linear"
      ]
    },
    {
      "cell_type": "markdown",
      "metadata": {
        "id": "RLsKfuQpcfyx"
      },
      "source": [
        "# judge on the RMSE result for this model \n",
        "write down your answar "
      ]
    },
    {
      "cell_type": "code",
      "source": [
        "housing_labels.describe()"
      ],
      "metadata": {
        "colab": {
          "base_uri": "https://localhost:8080/"
        },
        "id": "pkDoEBOe5_3b",
        "outputId": "7d6e0732-a86c-4dae-8051-288df4cb5837"
      },
      "execution_count": 12,
      "outputs": [
        {
          "output_type": "execute_result",
          "data": {
            "text/plain": [
              "count     16512.000000\n",
              "mean     207194.693738\n",
              "std      115622.626448\n",
              "min       14999.000000\n",
              "25%      119800.000000\n",
              "50%      179850.000000\n",
              "75%      265125.000000\n",
              "max      500001.000000\n",
              "Name: median_house_value, dtype: float64"
            ]
          },
          "metadata": {},
          "execution_count": 12
        }
      ]
    },
    {
      "cell_type": "markdown",
      "metadata": {
        "id": "nnBVcR-MeFqa"
      },
      "source": [
        "your answer goes here\n",
        "\n",
        "As we see here , the Rout mean squared error \\$67593 this is not the best result but not the worst, because the most median_house_values are between \\$119800 \n",
        "and $265125, for example as we see before when we compare the values in some_labels and subset_of_predictions if we take the first value we have \\$103000 as an actual value and the predictive value was \\$181746, this is definitely not the best, and if we take anothers samples we're going to find the same thing so this is not the best model, let's try a more complex model."
      ]
    },
    {
      "cell_type": "markdown",
      "metadata": {
        "id": "vImNak3CqqFo"
      },
      "source": [
        "# Let’s train a Decision Tree Regressor model \n",
        "## more powerful model"
      ]
    },
    {
      "cell_type": "code",
      "execution_count": 13,
      "metadata": {
        "id": "8syfCBveqY2q"
      },
      "outputs": [],
      "source": [
        "from sklearn.tree import DecisionTreeRegressor "
      ]
    },
    {
      "cell_type": "code",
      "execution_count": 14,
      "metadata": {
        "id": "vrUPZzBhq-do",
        "colab": {
          "base_uri": "https://localhost:8080/"
        },
        "outputId": "ebc06566-b595-498d-b718-01c861ab7b05"
      },
      "outputs": [
        {
          "output_type": "execute_result",
          "data": {
            "text/plain": [
              "DecisionTreeRegressor()"
            ]
          },
          "metadata": {},
          "execution_count": 14
        }
      ],
      "source": [
        "# CODE HERE\n",
        "\n",
        "decision_tree = DecisionTreeRegressor()\n",
        "decision_tree.fit(housing_prepared, housing_labels)"
      ]
    },
    {
      "cell_type": "markdown",
      "metadata": {
        "id": "kRhxYj0Aq9op"
      },
      "source": [
        "# Now evaluate the model on the training set \n",
        "* using Scikit-Learn’s mean_squared_error() function:"
      ]
    },
    {
      "cell_type": "code",
      "source": [
        "subset_of_predictions_tree= pd.Series(decision_tree.predict(subset_to_train))\n",
        "subset_of_predictions_tree"
      ],
      "metadata": {
        "colab": {
          "base_uri": "https://localhost:8080/"
        },
        "id": "cbt_1TXlNF0_",
        "outputId": "005a035c-c5f7-45cd-c65e-b2a17a6de496"
      },
      "execution_count": 15,
      "outputs": [
        {
          "output_type": "execute_result",
          "data": {
            "text/plain": [
              "0    103000.0\n",
              "1    382100.0\n",
              "2    172600.0\n",
              "3     93400.0\n",
              "4     96500.0\n",
              "dtype: float64"
            ]
          },
          "metadata": {},
          "execution_count": 15
        }
      ]
    },
    {
      "cell_type": "code",
      "source": [
        "rmse_on_subset_tree= np.sqrt(mean_squared_error(some_labels, subset_of_predictions_tree))\n",
        "rmse_on_subset_tree"
      ],
      "metadata": {
        "colab": {
          "base_uri": "https://localhost:8080/"
        },
        "id": "okyNF4YZNTCY",
        "outputId": "55146eec-80e3-4fbe-f232-462fda441368"
      },
      "execution_count": 16,
      "outputs": [
        {
          "output_type": "execute_result",
          "data": {
            "text/plain": [
              "0.0"
            ]
          },
          "metadata": {},
          "execution_count": 16
        }
      ]
    },
    {
      "cell_type": "markdown",
      "source": [
        "Wow!!!!????, is this possible? maybe, let's take a look to all data."
      ],
      "metadata": {
        "id": "1rwPX0lCNdSy"
      }
    },
    {
      "cell_type": "code",
      "execution_count": 17,
      "metadata": {
        "id": "DYCxUSCkrNIY",
        "colab": {
          "base_uri": "https://localhost:8080/"
        },
        "outputId": "02324f52-253c-4155-95ea-6ef7f0a7483c"
      },
      "outputs": [
        {
          "output_type": "execute_result",
          "data": {
            "text/plain": [
              "0.0"
            ]
          },
          "metadata": {},
          "execution_count": 17
        }
      ],
      "source": [
        "# CODE HERE\n",
        "predictions_tree= decision_tree.predict(housing_prepared)\n",
        "RMSE_tree = np.sqrt(mean_squared_error(housing_labels, predictions_tree))\n",
        "RMSE_tree"
      ]
    },
    {
      "cell_type": "markdown",
      "metadata": {
        "id": "CSxXI9b8iZPs"
      },
      "source": [
        "# Explaine this result \n",
        "write down your answar"
      ]
    },
    {
      "cell_type": "markdown",
      "metadata": {
        "id": "BVSMQ7kbiZSi"
      },
      "source": [
        "your answer goes here\n",
        "\n",
        "There is no error in the data? all the predictions has the same value of the actual values? there is no way, this is much more likely that the Decision Tree Regression model has badly overfit the data, unlike a Linear Regression model which is underfitting the training data, so the Linear reg model is not the best to predicte the housing price until now, so we must be sure from the two model. Now, because we don't want to use the testing data before make sure from the model that we're going to use, so we're going to use a two subsets of training data, one for training and one for model validation."
      ]
    },
    {
      "cell_type": "markdown",
      "metadata": {
        "id": "rj7b4zSPrdyH"
      },
      "source": [
        "# Evaluation Using Cross-Validation\n",
        "\n",
        "1-split the training set into 10 distinct subsets then train and evaluate the Decision Tree model"
      ]
    },
    {
      "cell_type": "code",
      "execution_count": 18,
      "metadata": {
        "id": "JmNrgsBrwIe3"
      },
      "outputs": [],
      "source": [
        "from sklearn.model_selection import cross_val_score"
      ]
    },
    {
      "cell_type": "code",
      "source": [
        "cross_val_score?"
      ],
      "metadata": {
        "id": "q4h0fVNfIi_E"
      },
      "execution_count": 19,
      "outputs": []
    },
    {
      "cell_type": "code",
      "execution_count": 20,
      "metadata": {
        "id": "yXNPsWjcwMd_",
        "colab": {
          "base_uri": "https://localhost:8080/"
        },
        "outputId": "78250ce7-1ca2-45ca-80c3-d129f00f7403"
      },
      "outputs": [
        {
          "output_type": "execute_result",
          "data": {
            "text/plain": [
              "array([-4.15044178e+09, -4.93471243e+09, -4.88853736e+09, -5.08419544e+09,\n",
              "       -5.39475772e+09, -4.55331884e+09, -4.52965502e+09, -4.49447553e+09,\n",
              "       -4.71997160e+09, -4.83182030e+09])"
            ]
          },
          "metadata": {},
          "execution_count": 20
        }
      ],
      "source": [
        "# CODE HERE\n",
        "cross_val_scores = cross_val_score(decision_tree, housing_prepared, housing_labels, scoring='neg_mean_squared_error', cv=10)\n",
        "cross_val_scores"
      ]
    },
    {
      "cell_type": "markdown",
      "source": [
        "the scoring function is actually the opposite of the MSE (i.e., a neg‐\n",
        "ative value), because of that we're going to use (- cross_val_scores) to get positive values or the mse values."
      ],
      "metadata": {
        "id": "ZmI_Pf7aLQEx"
      }
    },
    {
      "cell_type": "code",
      "source": [
        "newTree_rmse_scores= np.sqrt(- cross_val_scores) \n",
        "newTree_rmse_scores"
      ],
      "metadata": {
        "colab": {
          "base_uri": "https://localhost:8080/"
        },
        "id": "DFn_wAH0L-A2",
        "outputId": "dde77239-8725-4e89-d9d1-f96838c27d3a"
      },
      "execution_count": 21,
      "outputs": [
        {
          "output_type": "execute_result",
          "data": {
            "text/plain": [
              "array([64423.92241032, 70247.50838848, 69918.07609215, 71303.54440602,\n",
              "       73449.01439919, 67478.28420891, 67302.71186049, 67040.84969508,\n",
              "       68702.04942851, 69511.29623638])"
            ]
          },
          "metadata": {},
          "execution_count": 21
        }
      ]
    },
    {
      "cell_type": "markdown",
      "metadata": {
        "id": "KqReIY3urLP8"
      },
      "source": [
        "2- display the resultant scores and calculate its Mean and Standard deviation"
      ]
    },
    {
      "cell_type": "code",
      "execution_count": 22,
      "metadata": {
        "id": "1g8jIq-6raVF",
        "colab": {
          "base_uri": "https://localhost:8080/"
        },
        "outputId": "e4701a89-b6a0-4aec-c013-16c69adc7e19"
      },
      "outputs": [
        {
          "output_type": "stream",
          "name": "stdout",
          "text": [
            "Cross validation for (Decision tree)scores:  [64423.92241032 70247.50838848 69918.07609215 71303.54440602\n",
            " 73449.01439919 67478.28420891 67302.71186049 67040.84969508\n",
            " 68702.04942851 69511.29623638]\n",
            "Mean of scoes:  68937.72571255386\n",
            "Standard deviation of scoes:  2403.8670171623703\n"
          ]
        }
      ],
      "source": [
        "# CODE HERE\n",
        "print('Cross validation for (Decision tree)scores: ', newTree_rmse_scores)\n",
        "print('Mean of scoes: ', newTree_rmse_scores.mean())\n",
        "print('Standard deviation of scoes: ', newTree_rmse_scores.std())"
      ]
    },
    {
      "cell_type": "markdown",
      "source": [
        "Now this is possible, it is a possible number 68454 with std +/- 2460, let's take a look to the linear reg model with cross val maybe we can get a best value."
      ],
      "metadata": {
        "id": "U0S8kS1BS6h5"
      }
    },
    {
      "cell_type": "markdown",
      "metadata": {
        "id": "G6paGk_hsGGY"
      },
      "source": [
        "3-repaet the same steps to compute the same scores for the Linear Regression  model \n",
        "\n",
        "*notice the difference between the results of the two models*"
      ]
    },
    {
      "cell_type": "code",
      "execution_count": 23,
      "metadata": {
        "id": "ol3C6DmusWfx",
        "colab": {
          "base_uri": "https://localhost:8080/"
        },
        "outputId": "43553a5b-4e4d-4f72-e682-090e45502aef"
      },
      "outputs": [
        {
          "output_type": "execute_result",
          "data": {
            "text/plain": [
              "array([-4.22508760e+09, -5.03540116e+09, -4.50544871e+09, -4.36783940e+09,\n",
              "       -4.67890842e+09, -4.25969610e+09, -4.25348949e+09, -4.69574001e+09,\n",
              "       -5.29108950e+09, -4.75511489e+09])"
            ]
          },
          "metadata": {},
          "execution_count": 23
        }
      ],
      "source": [
        "# CODE HERE\n",
        "cross_val_scores_2 = cross_val_score(linear_reg, housing_prepared, housing_labels, scoring='neg_mean_squared_error', cv=10)\n",
        "cross_val_scores_2"
      ]
    },
    {
      "cell_type": "code",
      "source": [
        "newLinear_rmse_scores= np.sqrt(- cross_val_scores_2) \n",
        "newLinear_rmse_scores"
      ],
      "metadata": {
        "colab": {
          "base_uri": "https://localhost:8080/"
        },
        "id": "x4LwFZaVS5rE",
        "outputId": "f289555d-2bf7-4082-aaec-63cc4794f251"
      },
      "execution_count": 24,
      "outputs": [
        {
          "output_type": "execute_result",
          "data": {
            "text/plain": [
              "array([65000.67382615, 70960.56056304, 67122.63935124, 66089.63153865,\n",
              "       68402.54686442, 65266.34735288, 65218.78174481, 68525.46981754,\n",
              "       72739.87555996, 68957.34111906])"
            ]
          },
          "metadata": {},
          "execution_count": 24
        }
      ]
    },
    {
      "cell_type": "code",
      "source": [
        "print('Cross validation (for Linear reg) scores: ', newLinear_rmse_scores)\n",
        "print('Mean of scoes: ', newLinear_rmse_scores.mean())\n",
        "print('Standard deviation of scoes: ', newLinear_rmse_scores.std())"
      ],
      "metadata": {
        "colab": {
          "base_uri": "https://localhost:8080/"
        },
        "id": "ju2kAwz7UDox",
        "outputId": "229ddbe4-0786-4ef2-f36f-17ffa691b1d9"
      },
      "execution_count": 25,
      "outputs": [
        {
          "output_type": "stream",
          "name": "stdout",
          "text": [
            "Cross validation (for Linear reg) scores:  [65000.67382615 70960.56056304 67122.63935124 66089.63153865\n",
            " 68402.54686442 65266.34735288 65218.78174481 68525.46981754\n",
            " 72739.87555996 68957.34111906]\n",
            "Mean of scoes:  67828.38677377408\n",
            "Standard deviation of scoes:  2468.091395065227\n"
          ]
        }
      ]
    },
    {
      "cell_type": "markdown",
      "source": [
        "Ok, 67828 with +/- 2468 std is the best until now, so the linear reg perform is better than decision tree model,"
      ],
      "metadata": {
        "id": "WN1z4qQuUXkL"
      }
    },
    {
      "cell_type": "markdown",
      "metadata": {
        "id": "fdQ85uTEtDy1"
      },
      "source": [
        "## Let’s train one last model the RandomForestRegressor."
      ]
    },
    {
      "cell_type": "code",
      "execution_count": 26,
      "metadata": {
        "id": "O1PPFq5TtdDP",
        "colab": {
          "base_uri": "https://localhost:8080/"
        },
        "outputId": "e787ba51-745d-483a-fb56-0a4aea93f32e"
      },
      "outputs": [
        {
          "output_type": "execute_result",
          "data": {
            "text/plain": [
              "RandomForestRegressor()"
            ]
          },
          "metadata": {},
          "execution_count": 26
        }
      ],
      "source": [
        "# CODE HERE\n",
        "from sklearn.ensemble import RandomForestRegressor\n",
        "\n",
        "RFG = RandomForestRegressor()\n",
        "RFG.fit(housing_prepared, housing_labels)"
      ]
    },
    {
      "cell_type": "code",
      "source": [
        "predictions_RFG= RFG.predict(housing_prepared)\n",
        "predictions_RFG"
      ],
      "metadata": {
        "colab": {
          "base_uri": "https://localhost:8080/"
        },
        "id": "1Xt5hXuzX-c6",
        "outputId": "42a38e70-8373-4926-b2b6-86137946d391"
      },
      "execution_count": 27,
      "outputs": [
        {
          "output_type": "execute_result",
          "data": {
            "text/plain": [
              "array([109940.  , 383497.06, 194275.  , ..., 212016.  , 276375.  ,\n",
              "       317583.01])"
            ]
          },
          "metadata": {},
          "execution_count": 27
        }
      ]
    },
    {
      "cell_type": "code",
      "source": [
        "rmse_on_RFG= np.sqrt(mean_squared_error(housing_labels, predictions_RFG))\n",
        "rmse_on_RFG"
      ],
      "metadata": {
        "colab": {
          "base_uri": "https://localhost:8080/"
        },
        "id": "vMbjimNiXYO6",
        "outputId": "23a9fdbf-7ce4-41cd-8b3f-d79b2961d7b6"
      },
      "execution_count": 28,
      "outputs": [
        {
          "output_type": "execute_result",
          "data": {
            "text/plain": [
              "18609.799683094494"
            ]
          },
          "metadata": {},
          "execution_count": 28
        }
      ]
    },
    {
      "cell_type": "markdown",
      "source": [
        "Wow, that is possible 18525 is the best answer, so the RFG looks so promising.  \n",
        "\n",
        "But we must use cross validation to know if the model is overfitted in training set of data (that is so possible), so let's use cross_val on RFG to see the results."
      ],
      "metadata": {
        "id": "pChvNMP_YQOU"
      }
    },
    {
      "cell_type": "code",
      "source": [
        "RFG_2 = RandomForestRegressor(n_estimators=100, random_state=42)\n",
        "RFG_2.fit(housing_prepared, housing_labels)"
      ],
      "metadata": {
        "colab": {
          "base_uri": "https://localhost:8080/"
        },
        "id": "SWQ7mm-MsMor",
        "outputId": "213ba0b0-49c7-48c2-9f2c-9ddb5bf10cdf"
      },
      "execution_count": 29,
      "outputs": [
        {
          "output_type": "execute_result",
          "data": {
            "text/plain": [
              "RandomForestRegressor(random_state=42)"
            ]
          },
          "metadata": {},
          "execution_count": 29
        }
      ]
    },
    {
      "cell_type": "code",
      "source": [
        "predictions_RFG_2= RFG_2.predict(housing_prepared)\n",
        "predictions_RFG_2"
      ],
      "metadata": {
        "colab": {
          "base_uri": "https://localhost:8080/"
        },
        "id": "bZd9hkFGsTx3",
        "outputId": "7dd4b6d2-f599-4ff3-a5ca-6396cf77630a"
      },
      "execution_count": 30,
      "outputs": [
        {
          "output_type": "execute_result",
          "data": {
            "text/plain": [
              "array([107699.  , 384707.07, 206139.03, ..., 211776.  , 278064.  ,\n",
              "       316979.02])"
            ]
          },
          "metadata": {},
          "execution_count": 30
        }
      ]
    },
    {
      "cell_type": "code",
      "source": [
        "rmse_on_RFG= np.sqrt(mean_squared_error(housing_labels, predictions_RFG_2))\n",
        "rmse_on_RFG"
      ],
      "metadata": {
        "colab": {
          "base_uri": "https://localhost:8080/"
        },
        "id": "yn0UY1cfxbVw",
        "outputId": "715d8522-a7d0-495f-d703-588599792428"
      },
      "execution_count": 31,
      "outputs": [
        {
          "output_type": "execute_result",
          "data": {
            "text/plain": [
              "18527.322990316152"
            ]
          },
          "metadata": {},
          "execution_count": 31
        }
      ]
    },
    {
      "cell_type": "markdown",
      "metadata": {
        "id": "gSxaBthCtw93"
      },
      "source": [
        "# repeat the same steps to compute the same scores its Mean and Standard deviation for the Random Forest model"
      ]
    },
    {
      "cell_type": "code",
      "execution_count": 32,
      "metadata": {
        "id": "AAc2MOQwt2lC",
        "colab": {
          "base_uri": "https://localhost:8080/"
        },
        "outputId": "ece7e5b1-3241-4289-86ac-e27c5d7d7a72"
      },
      "outputs": [
        {
          "output_type": "execute_result",
          "data": {
            "text/plain": [
              "array([-2.24107511e+09, -2.68679743e+09, -2.46637925e+09, -2.67323858e+09,\n",
              "       -2.80480508e+09, -2.23016627e+09, -2.23534784e+09, -2.58508388e+09,\n",
              "       -2.42701188e+09, -2.48153083e+09])"
            ]
          },
          "metadata": {},
          "execution_count": 32
        }
      ],
      "source": [
        "# CODE HERE\n",
        "cross_val_scores_3 = cross_val_score(RFG, housing_prepared, housing_labels, scoring='neg_mean_squared_error', cv=10)\n",
        "cross_val_scores_3"
      ]
    },
    {
      "cell_type": "code",
      "source": [
        "newRFG_rmse_scores= np.sqrt(- cross_val_scores_3) \n",
        "newRFG_rmse_scores"
      ],
      "metadata": {
        "colab": {
          "base_uri": "https://localhost:8080/"
        },
        "id": "--8bJK68Z4Wi",
        "outputId": "1b16014c-dfbd-4801-94e1-d738702ef593"
      },
      "execution_count": 33,
      "outputs": [
        {
          "output_type": "execute_result",
          "data": {
            "text/plain": [
              "array([47339.99479348, 51834.32672299, 49662.65447745, 51703.37102818,\n",
              "       52960.41047389, 47224.63629308, 47279.46527992, 50843.72017669,\n",
              "       49264.71227652, 49814.96596071])"
            ]
          },
          "metadata": {},
          "execution_count": 33
        }
      ]
    },
    {
      "cell_type": "code",
      "source": [
        "print('Cross validation (for Linear reg) scores: ', newRFG_rmse_scores)\n",
        "print('Mean of scoes: ', newRFG_rmse_scores.mean())\n",
        "print('Standard deviation of scoes: ', newRFG_rmse_scores.std())"
      ],
      "metadata": {
        "colab": {
          "base_uri": "https://localhost:8080/"
        },
        "id": "2ixyMwvTZ8za",
        "outputId": "c2327ddf-656f-4df4-a978-7c866a0a6478"
      },
      "execution_count": 34,
      "outputs": [
        {
          "output_type": "stream",
          "name": "stdout",
          "text": [
            "Cross validation (for Linear reg) scores:  [47339.99479348 51834.32672299 49662.65447745 51703.37102818\n",
            " 52960.41047389 47224.63629308 47279.46527992 50843.72017669\n",
            " 49264.71227652 49814.96596071]\n",
            "Mean of scoes:  49792.825748290874\n",
            "Standard deviation of scoes:  1954.000455277528\n"
          ]
        }
      ]
    },
    {
      "cell_type": "markdown",
      "source": [
        "This is much better than other models, with cross_val there isn't overfitting."
      ],
      "metadata": {
        "id": "7MIAh93dnW9P"
      }
    },
    {
      "cell_type": "markdown",
      "metadata": {
        "id": "Vn2u9DOxvE5S"
      },
      "source": [
        "# Save every model you experiment with \n",
        "*using the joblib library*"
      ]
    },
    {
      "cell_type": "code",
      "execution_count": 35,
      "metadata": {
        "id": "mWyIi3mtva85",
        "colab": {
          "base_uri": "https://localhost:8080/"
        },
        "outputId": "47eb5efc-4a8b-4a6a-e7a0-ad1517ec54f9"
      },
      "outputs": [
        {
          "output_type": "execute_result",
          "data": {
            "text/plain": [
              "['random forest regressor_100 estimators.pkl']"
            ]
          },
          "metadata": {},
          "execution_count": 35
        }
      ],
      "source": [
        "# CODE HERE\n",
        "import joblib\n",
        "joblib.dump(linear_reg, \"linear regression.pkl\")\n",
        "joblib.dump(decision_tree, \"decision tree.pkl\")\n",
        "joblib.dump(RFG, \"random forest regressor.pkl\")\n",
        "joblib.dump(RFG_2, \"random forest regressor_100 estimators.pkl\")"
      ]
    },
    {
      "cell_type": "markdown",
      "metadata": {
        "id": "gIC6O-h0wOBJ"
      },
      "source": [
        "## now you have a shortlist of promising models. You now need to\n",
        "## fine-tune them!\n",
        "# Fine-Tune Your Model\n",
        "\n",
        "## 1- Grid Search\n",
        "## evaluate all the possible combinations of hyperparameter values for the RandomForestRegressor \n",
        "*It may take a long time*"
      ]
    },
    {
      "cell_type": "code",
      "execution_count": 36,
      "metadata": {
        "id": "Y8Wqd-Pix3Sm"
      },
      "outputs": [],
      "source": [
        "from sklearn.model_selection import GridSearchCV"
      ]
    },
    {
      "cell_type": "code",
      "execution_count": 37,
      "metadata": {
        "id": "j-zNvGLhyGGb"
      },
      "outputs": [],
      "source": [
        "# CODE HERE\n",
        "hyperpars = [\n",
        "                    {'n_estimators': [3, 10, 30, 40], 'max_features': [2, 4, 6, 8]},\n",
        "                    {'bootstrap': [False], 'n_estimators': [3, 10], 'max_features': [2, 3, 4]},# bootstrap: False, the boot strap is used in applied machine learning to estimate \n",
        "                                                                                                                               #the skill of machine learning models when making predictions on data not included in the training data.\n",
        "                    {'bootstrap': [False], 'n_estimators': [3, 10, 30], 'max_features': [2, 3, 4, 6, 8]}\n",
        "]"
      ]
    },
    {
      "cell_type": "markdown",
      "metadata": {
        "id": "EhYbsAnE0j75"
      },
      "source": [
        "with the evaluation scores"
      ]
    },
    {
      "cell_type": "code",
      "execution_count": 38,
      "metadata": {
        "id": "qhDCrx0Y0ocN",
        "colab": {
          "base_uri": "https://localhost:8080/"
        },
        "outputId": "47a006ac-d06e-4329-ec17-3188f2f2449e"
      },
      "outputs": [
        {
          "output_type": "execute_result",
          "data": {
            "text/plain": [
              "GridSearchCV(cv=5, estimator=RandomForestRegressor(),\n",
              "             param_grid=[{'max_features': [2, 4, 6, 8],\n",
              "                          'n_estimators': [3, 10, 30, 40]},\n",
              "                         {'bootstrap': [False], 'max_features': [2, 3, 4],\n",
              "                          'n_estimators': [3, 10]},\n",
              "                         {'bootstrap': [False], 'max_features': [2, 3, 4, 6, 8],\n",
              "                          'n_estimators': [3, 10, 30]}],\n",
              "             return_train_score=True, scoring='neg_mean_squared_error')"
            ]
          },
          "metadata": {},
          "execution_count": 38
        }
      ],
      "source": [
        "# CODE HERE\n",
        "grid_search = GridSearchCV(RFG, hyperpars, cv=5,\n",
        "                                                scoring='neg_mean_squared_error',\n",
        "                                                return_train_score=True)\n",
        "\n",
        "grid_search.fit(housing_prepared, housing_labels)"
      ]
    },
    {
      "cell_type": "code",
      "source": [
        "grid_search.best_params_"
      ],
      "metadata": {
        "colab": {
          "base_uri": "https://localhost:8080/"
        },
        "id": "WlciTzCnS9jC",
        "outputId": "89398b00-2b6a-4d82-e8f7-45a79fe209c9"
      },
      "execution_count": 39,
      "outputs": [
        {
          "output_type": "execute_result",
          "data": {
            "text/plain": [
              "{'bootstrap': False, 'max_features': 6, 'n_estimators': 30}"
            ]
          },
          "metadata": {},
          "execution_count": 39
        }
      ]
    },
    {
      "cell_type": "code",
      "source": [
        "grid_search.best_estimator_"
      ],
      "metadata": {
        "colab": {
          "base_uri": "https://localhost:8080/"
        },
        "id": "tMGvHE43THrQ",
        "outputId": "b118dbdb-4671-40d6-c6ce-f07c032f01e9"
      },
      "execution_count": 40,
      "outputs": [
        {
          "output_type": "execute_result",
          "data": {
            "text/plain": [
              "RandomForestRegressor(bootstrap=False, max_features=6, n_estimators=30)"
            ]
          },
          "metadata": {},
          "execution_count": 40
        }
      ]
    },
    {
      "cell_type": "code",
      "source": [
        "grid_search.cv_results_['mean_test_score']"
      ],
      "metadata": {
        "colab": {
          "base_uri": "https://localhost:8080/"
        },
        "id": "ymSq_rQAc-Pg",
        "outputId": "09672626-cc6b-40a6-f110-b88f1aa209a5"
      },
      "execution_count": 41,
      "outputs": [
        {
          "output_type": "execute_result",
          "data": {
            "text/plain": [
              "array([-4.04456322e+09, -2.99068583e+09, -2.72519212e+09, -2.70980324e+09,\n",
              "       -3.52848928e+09, -2.77006078e+09, -2.53672912e+09, -2.48329610e+09,\n",
              "       -3.53753899e+09, -2.69555346e+09, -2.51119655e+09, -2.45254166e+09,\n",
              "       -3.45142818e+09, -2.71474686e+09, -2.47563867e+09, -2.48197048e+09,\n",
              "       -4.01432791e+09, -2.91077099e+09, -3.60539854e+09, -2.74486141e+09,\n",
              "       -3.34508623e+09, -2.60913650e+09, -3.82930745e+09, -2.93336438e+09,\n",
              "       -2.63868361e+09, -3.47744129e+09, -2.75648934e+09, -2.50468298e+09,\n",
              "       -3.30379584e+09, -2.63858692e+09, -2.43045784e+09, -3.28315042e+09,\n",
              "       -2.59926773e+09, -2.38884976e+09, -3.28340454e+09, -2.63067441e+09,\n",
              "       -2.43763160e+09])"
            ]
          },
          "metadata": {},
          "execution_count": 41
        }
      ]
    },
    {
      "cell_type": "code",
      "source": [
        "grid_search.cv_results_['params']"
      ],
      "metadata": {
        "colab": {
          "base_uri": "https://localhost:8080/"
        },
        "id": "wYRxwiJydG5u",
        "outputId": "16239a03-d66b-4826-b9e8-1707b7d73134"
      },
      "execution_count": 42,
      "outputs": [
        {
          "output_type": "execute_result",
          "data": {
            "text/plain": [
              "[{'max_features': 2, 'n_estimators': 3},\n",
              " {'max_features': 2, 'n_estimators': 10},\n",
              " {'max_features': 2, 'n_estimators': 30},\n",
              " {'max_features': 2, 'n_estimators': 40},\n",
              " {'max_features': 4, 'n_estimators': 3},\n",
              " {'max_features': 4, 'n_estimators': 10},\n",
              " {'max_features': 4, 'n_estimators': 30},\n",
              " {'max_features': 4, 'n_estimators': 40},\n",
              " {'max_features': 6, 'n_estimators': 3},\n",
              " {'max_features': 6, 'n_estimators': 10},\n",
              " {'max_features': 6, 'n_estimators': 30},\n",
              " {'max_features': 6, 'n_estimators': 40},\n",
              " {'max_features': 8, 'n_estimators': 3},\n",
              " {'max_features': 8, 'n_estimators': 10},\n",
              " {'max_features': 8, 'n_estimators': 30},\n",
              " {'max_features': 8, 'n_estimators': 40},\n",
              " {'bootstrap': False, 'max_features': 2, 'n_estimators': 3},\n",
              " {'bootstrap': False, 'max_features': 2, 'n_estimators': 10},\n",
              " {'bootstrap': False, 'max_features': 3, 'n_estimators': 3},\n",
              " {'bootstrap': False, 'max_features': 3, 'n_estimators': 10},\n",
              " {'bootstrap': False, 'max_features': 4, 'n_estimators': 3},\n",
              " {'bootstrap': False, 'max_features': 4, 'n_estimators': 10},\n",
              " {'bootstrap': False, 'max_features': 2, 'n_estimators': 3},\n",
              " {'bootstrap': False, 'max_features': 2, 'n_estimators': 10},\n",
              " {'bootstrap': False, 'max_features': 2, 'n_estimators': 30},\n",
              " {'bootstrap': False, 'max_features': 3, 'n_estimators': 3},\n",
              " {'bootstrap': False, 'max_features': 3, 'n_estimators': 10},\n",
              " {'bootstrap': False, 'max_features': 3, 'n_estimators': 30},\n",
              " {'bootstrap': False, 'max_features': 4, 'n_estimators': 3},\n",
              " {'bootstrap': False, 'max_features': 4, 'n_estimators': 10},\n",
              " {'bootstrap': False, 'max_features': 4, 'n_estimators': 30},\n",
              " {'bootstrap': False, 'max_features': 6, 'n_estimators': 3},\n",
              " {'bootstrap': False, 'max_features': 6, 'n_estimators': 10},\n",
              " {'bootstrap': False, 'max_features': 6, 'n_estimators': 30},\n",
              " {'bootstrap': False, 'max_features': 8, 'n_estimators': 3},\n",
              " {'bootstrap': False, 'max_features': 8, 'n_estimators': 10},\n",
              " {'bootstrap': False, 'max_features': 8, 'n_estimators': 30}]"
            ]
          },
          "metadata": {},
          "execution_count": 42
        }
      ]
    },
    {
      "cell_type": "code",
      "source": [
        "cvres = grid_search.cv_results_"
      ],
      "metadata": {
        "id": "Z8OKheIcTYOP"
      },
      "execution_count": 43,
      "outputs": []
    },
    {
      "cell_type": "code",
      "source": [
        "RMSE_list = []\n",
        "for mean_score, params in zip(cvres[\"mean_test_score\"], cvres[\"params\"]):\n",
        "    print(np.sqrt(-mean_score), params)\n",
        "    RMSE_list.append(np.sqrt(-mean_score))"
      ],
      "metadata": {
        "colab": {
          "base_uri": "https://localhost:8080/"
        },
        "id": "lT2THcc3Tfc0",
        "outputId": "095d8574-b1c2-4e43-d6ee-8feaea4967be"
      },
      "execution_count": 44,
      "outputs": [
        {
          "output_type": "stream",
          "name": "stdout",
          "text": [
            "63596.88056153428 {'max_features': 2, 'n_estimators': 3}\n",
            "54687.16330485827 {'max_features': 2, 'n_estimators': 10}\n",
            "52203.37271131242 {'max_features': 2, 'n_estimators': 30}\n",
            "52055.77051582462 {'max_features': 2, 'n_estimators': 40}\n",
            "59401.088164507135 {'max_features': 4, 'n_estimators': 3}\n",
            "52631.36684941375 {'max_features': 4, 'n_estimators': 10}\n",
            "50365.95194491008 {'max_features': 4, 'n_estimators': 30}\n",
            "49832.68105610091 {'max_features': 4, 'n_estimators': 40}\n",
            "59477.21402158825 {'max_features': 6, 'n_estimators': 3}\n",
            "51918.71978016918 {'max_features': 6, 'n_estimators': 10}\n",
            "50111.84044103815 {'max_features': 6, 'n_estimators': 30}\n",
            "49523.142634453856 {'max_features': 6, 'n_estimators': 40}\n",
            "58748.85685895614 {'max_features': 8, 'n_estimators': 3}\n",
            "52103.23271548502 {'max_features': 8, 'n_estimators': 10}\n",
            "49755.790331349795 {'max_features': 8, 'n_estimators': 30}\n",
            "49819.37856804238 {'max_features': 8, 'n_estimators': 40}\n",
            "63358.72403596912 {'bootstrap': False, 'max_features': 2, 'n_estimators': 3}\n",
            "53951.561535885354 {'bootstrap': False, 'max_features': 2, 'n_estimators': 10}\n",
            "60044.97098814682 {'bootstrap': False, 'max_features': 3, 'n_estimators': 3}\n",
            "52391.42498744939 {'bootstrap': False, 'max_features': 3, 'n_estimators': 10}\n",
            "57836.72044237159 {'bootstrap': False, 'max_features': 4, 'n_estimators': 3}\n",
            "51079.70728534163 {'bootstrap': False, 'max_features': 4, 'n_estimators': 10}\n",
            "61881.398246120014 {'bootstrap': False, 'max_features': 2, 'n_estimators': 3}\n",
            "54160.542605963885 {'bootstrap': False, 'max_features': 2, 'n_estimators': 10}\n",
            "51368.11857451299 {'bootstrap': False, 'max_features': 2, 'n_estimators': 30}\n",
            "58969.83372563962 {'bootstrap': False, 'max_features': 3, 'n_estimators': 3}\n",
            "52502.279355767365 {'bootstrap': False, 'max_features': 3, 'n_estimators': 10}\n",
            "50046.807884656635 {'bootstrap': False, 'max_features': 3, 'n_estimators': 30}\n",
            "57478.655539137944 {'bootstrap': False, 'max_features': 4, 'n_estimators': 3}\n",
            "51367.17744906121 {'bootstrap': False, 'max_features': 4, 'n_estimators': 10}\n",
            "49299.67379738203 {'bootstrap': False, 'max_features': 4, 'n_estimators': 30}\n",
            "57298.78204824616 {'bootstrap': False, 'max_features': 6, 'n_estimators': 3}\n",
            "50983.014170316346 {'bootstrap': False, 'max_features': 6, 'n_estimators': 10}\n",
            "48875.86072917433 {'bootstrap': False, 'max_features': 6, 'n_estimators': 30}\n",
            "57300.99950829387 {'bootstrap': False, 'max_features': 8, 'n_estimators': 3}\n",
            "51290.10050388745 {'bootstrap': False, 'max_features': 8, 'n_estimators': 10}\n",
            "49372.37691227427 {'bootstrap': False, 'max_features': 8, 'n_estimators': 30}\n"
          ]
        }
      ]
    },
    {
      "cell_type": "code",
      "source": [
        "min(RMSE_list) #{'bootstrap': False, 'max_features': 6, 'n_estimators': 3}"
      ],
      "metadata": {
        "colab": {
          "base_uri": "https://localhost:8080/"
        },
        "id": "z8H-Zk1teqkp",
        "outputId": "bb858bfb-7549-4441-a29f-ef6fc5e9b451"
      },
      "execution_count": 45,
      "outputs": [
        {
          "output_type": "execute_result",
          "data": {
            "text/plain": [
              "48875.86072917433"
            ]
          },
          "metadata": {},
          "execution_count": 45
        }
      ]
    },
    {
      "cell_type": "markdown",
      "metadata": {
        "id": "pjRCrlqEyH1A"
      },
      "source": [
        "# Analyze the Best Models and Their Errors\n",
        "1-indicate the relative importance of each attribute"
      ]
    },
    {
      "cell_type": "code",
      "execution_count": 46,
      "metadata": {
        "id": "y2MkCD1Byh9F",
        "colab": {
          "base_uri": "https://localhost:8080/"
        },
        "outputId": "9d4f3f9e-1ae0-4db6-b176-7e707c485c86"
      },
      "outputs": [
        {
          "output_type": "execute_result",
          "data": {
            "text/plain": [
              "array([8.50352837e-02, 7.44107728e-02, 3.98391928e-02, 1.61368225e-02,\n",
              "       1.55956669e-02, 1.61933959e-02, 1.50336439e-02, 3.33646019e-01,\n",
              "       5.82734358e-02, 1.03443021e-01, 8.26589363e-02, 1.12803953e-02,\n",
              "       1.37985334e-01, 2.30783671e-04, 4.19953967e-03, 6.03775797e-03])"
            ]
          },
          "metadata": {},
          "execution_count": 46
        }
      ],
      "source": [
        "# CODE HERE\n",
        "#Let's display the cols by the importance\n",
        "cols_importance = grid_search.best_estimator_.feature_importances_\n",
        "cols_importance"
      ]
    },
    {
      "cell_type": "markdown",
      "metadata": {
        "id": "b01L7mUm1xTV"
      },
      "source": [
        "2-display these importance scores next to their corresponding attribute names:"
      ]
    },
    {
      "cell_type": "code",
      "execution_count": 50,
      "metadata": {
        "id": "dau43zXt14i7"
      },
      "outputs": [],
      "source": [
        "# CODE HERE\n",
        "#let's use feature engineering to add 3 more cols\n",
        "extra_attribs = [\"rooms_per_hhold\", \"pop_per_hhold\", \"bedrooms_per_room\"]"
      ]
    },
    {
      "cell_type": "code",
      "source": [
        "full_pipeline.named_transformers_"
      ],
      "metadata": {
        "colab": {
          "base_uri": "https://localhost:8080/"
        },
        "id": "vF0AW5Ee4xQr",
        "outputId": "380ace98-dcce-456c-c37d-cd6ed703fa3a"
      },
      "execution_count": 53,
      "outputs": [
        {
          "output_type": "execute_result",
          "data": {
            "text/plain": [
              "{'num': Pipeline(steps=[('imputer', SimpleImputer(strategy='median')),\n",
              "                 ('attribs_adder', CombinedAttributesAdder()),\n",
              "                 ('std_scaler', StandardScaler())]), 'cat': OneHotEncoder()}"
            ]
          },
          "metadata": {},
          "execution_count": 53
        }
      ]
    },
    {
      "cell_type": "code",
      "source": [
        "cat_ohe = full_pipeline.named_transformers_['cat']"
      ],
      "metadata": {
        "id": "iDoCSnLp47PC"
      },
      "execution_count": 54,
      "outputs": []
    },
    {
      "cell_type": "code",
      "source": [
        "list(cat_ohe.categories_[0])"
      ],
      "metadata": {
        "colab": {
          "base_uri": "https://localhost:8080/"
        },
        "id": "YXLaGhKX5dJj",
        "outputId": "dfbab87e-5723-4fc7-8b88-b6bc1f454c51"
      },
      "execution_count": 55,
      "outputs": [
        {
          "output_type": "execute_result",
          "data": {
            "text/plain": [
              "['<1H OCEAN', 'INLAND', 'ISLAND', 'NEAR BAY', 'NEAR OCEAN']"
            ]
          },
          "metadata": {},
          "execution_count": 55
        }
      ]
    },
    {
      "cell_type": "code",
      "source": [
        "cat_cols = list(cat_ohe.categories_[0])\n",
        "cols = num_attribs + extra_attribs + cat_cols\n",
        "cols"
      ],
      "metadata": {
        "colab": {
          "base_uri": "https://localhost:8080/"
        },
        "id": "l7m3TKxV5kwM",
        "outputId": "bc939bf3-5795-49e9-9f28-9c5401171495"
      },
      "execution_count": 60,
      "outputs": [
        {
          "output_type": "execute_result",
          "data": {
            "text/plain": [
              "['longitude',\n",
              " 'latitude',\n",
              " 'housing_median_age',\n",
              " 'total_rooms',\n",
              " 'total_bedrooms',\n",
              " 'population',\n",
              " 'households',\n",
              " 'median_income',\n",
              " 'rooms_per_hhold',\n",
              " 'pop_per_hhold',\n",
              " 'bedrooms_per_room',\n",
              " '<1H OCEAN',\n",
              " 'INLAND',\n",
              " 'ISLAND',\n",
              " 'NEAR BAY',\n",
              " 'NEAR OCEAN']"
            ]
          },
          "metadata": {},
          "execution_count": 60
        }
      ]
    },
    {
      "cell_type": "code",
      "source": [
        "sorted(zip(cols_importance, cols), reverse=True)"
      ],
      "metadata": {
        "colab": {
          "base_uri": "https://localhost:8080/"
        },
        "id": "WU-DiQr-58fQ",
        "outputId": "d9fd4435-2067-4ff7-a1b8-01dd8e95051a"
      },
      "execution_count": 61,
      "outputs": [
        {
          "output_type": "execute_result",
          "data": {
            "text/plain": [
              "[(0.3336460185891032, 'median_income'),\n",
              " (0.13798533356056822, 'INLAND'),\n",
              " (0.10344302061657772, 'pop_per_hhold'),\n",
              " (0.08503528371161687, 'longitude'),\n",
              " (0.08265893627515516, 'bedrooms_per_room'),\n",
              " (0.07441077278660943, 'latitude'),\n",
              " (0.058273435756137554, 'rooms_per_hhold'),\n",
              " (0.03983919281989622, 'housing_median_age'),\n",
              " (0.01619339593868997, 'population'),\n",
              " (0.016136822518739366, 'total_rooms'),\n",
              " (0.015595666912119915, 'total_bedrooms'),\n",
              " (0.015033643929227652, 'households'),\n",
              " (0.011280395266076085, '<1H OCEAN'),\n",
              " (0.006037757973569321, 'NEAR OCEAN'),\n",
              " (0.004199539674874237, 'NEAR BAY'),\n",
              " (0.00023078367103913341, 'ISLAND')]"
            ]
          },
          "metadata": {},
          "execution_count": 61
        }
      ]
    },
    {
      "cell_type": "markdown",
      "source": [
        "median income the most impotant column, it is expected.\n",
        "we notice here the new column population per house hold is the third column by importance and maybe this will improve the model performance, and the only useful category from the ocean prox column is the INLAND others are not useful so we can drop it ."
      ],
      "metadata": {
        "id": "sD36zpQv6ety"
      }
    },
    {
      "cell_type": "markdown",
      "metadata": {
        "id": "esOPiD6Pyice"
      },
      "source": [
        "## Now is the time to evaluate the final model on the test set.\n",
        "# Evaluate Your System on the Test Set\n",
        "\n",
        "1-get the predictors and the labels from your test set"
      ]
    },
    {
      "cell_type": "code",
      "execution_count": 70,
      "metadata": {
        "id": "ZrmGwOEyykad"
      },
      "outputs": [],
      "source": [
        "# CODE HERE\n",
        "model = grid_search.best_estimator_"
      ]
    },
    {
      "cell_type": "code",
      "source": [
        "predictors_test = test_set.drop(\"median_house_value\", axis=1)\n",
        "label_test = test_set[\"median_house_value\"].copy()"
      ],
      "metadata": {
        "id": "BePbd5D--mNl"
      },
      "execution_count": 69,
      "outputs": []
    },
    {
      "cell_type": "markdown",
      "metadata": {
        "id": "lhkKu23G2yNd"
      },
      "source": [
        "2-run your full_pipeline to transform the data"
      ]
    },
    {
      "cell_type": "code",
      "execution_count": 78,
      "metadata": {
        "id": "VBfW1WG823TE",
        "colab": {
          "base_uri": "https://localhost:8080/"
        },
        "outputId": "3498a55a-1fda-45e9-8155-5cce2bb95ab8"
      },
      "outputs": [
        {
          "output_type": "execute_result",
          "data": {
            "text/plain": [
              "array([ 48080.        , 103613.33333333, 423963.8       , ...,\n",
              "       496597.6       ,  74026.66666667, 171713.33333333])"
            ]
          },
          "metadata": {},
          "execution_count": 78
        }
      ],
      "source": [
        "# CODE HERE\n",
        "test_prepared = full_pipeline.transform(predictors_test)\n",
        "real_predictions = model.predict(test_prepared)\n",
        "real_predictions"
      ]
    },
    {
      "cell_type": "markdown",
      "metadata": {
        "id": "hNVnMSJy28xt"
      },
      "source": [
        "3-evaluate the final model on the test set"
      ]
    },
    {
      "cell_type": "code",
      "execution_count": 77,
      "metadata": {
        "id": "HrcgAUoy2_tc",
        "colab": {
          "base_uri": "https://localhost:8080/"
        },
        "outputId": "dfc73c92-29b9-453f-f91e-ee647cea3978"
      },
      "outputs": [
        {
          "output_type": "execute_result",
          "data": {
            "text/plain": [
              "48372.78019350712"
            ]
          },
          "metadata": {},
          "execution_count": 77
        }
      ],
      "source": [
        "# CODE HERE\n",
        "final_mse = mean_squared_error(label_test, real_predictions)\n",
        "final_rmse = np.sqrt(final_mse)\n",
        "final_rmse"
      ]
    },
    {
      "cell_type": "markdown",
      "metadata": {
        "id": "wYBxgnsx3Ipr"
      },
      "source": [
        "# compute a 95% confidence interval for the generalization error \n",
        "*using scipy.stats.t.interval():*"
      ]
    },
    {
      "cell_type": "markdown",
      "source": [
        "here we must have an idea of how precise this estimate is."
      ],
      "metadata": {
        "id": "olBKBxJgASuH"
      }
    },
    {
      "cell_type": "code",
      "execution_count": 79,
      "metadata": {
        "id": "ngWpgPrE3NaS"
      },
      "outputs": [],
      "source": [
        "from scipy import stats"
      ]
    },
    {
      "cell_type": "code",
      "execution_count": 80,
      "metadata": {
        "id": "6RFaMou83WBY",
        "colab": {
          "base_uri": "https://localhost:8080/"
        },
        "outputId": "fdd537de-5060-4462-9e5c-c8073bbf0713"
      },
      "outputs": [
        {
          "output_type": "execute_result",
          "data": {
            "text/plain": [
              "array([46181.18040205, 50469.30060911])"
            ]
          },
          "metadata": {},
          "execution_count": 80
        }
      ],
      "source": [
        "# CODE HERE\n",
        "from scipy import stats\n",
        "\n",
        "confidence = 0.95\n",
        "squared_errors = (real_predictions - label_test) ** 2\n",
        "\n",
        "np.sqrt(stats.t.interval(confidence, len(squared_errors) - 1,\n",
        "                                   loc=squared_errors.mean(),\n",
        "                                   scale=stats.sem(squared_errors)))"
      ]
    },
    {
      "cell_type": "markdown",
      "metadata": {
        "id": "fTsy6N8Uytpo"
      },
      "source": [
        "# Great Job!\n",
        "# #shAI_Club"
      ]
    }
  ],
  "metadata": {
    "colab": {
      "provenance": [],
      "include_colab_link": true
    },
    "kernelspec": {
      "display_name": "Python 3",
      "language": "python",
      "name": "python3"
    },
    "language_info": {
      "codemirror_mode": {
        "name": "ipython",
        "version": 3
      },
      "file_extension": ".py",
      "mimetype": "text/x-python",
      "name": "python",
      "nbconvert_exporter": "python",
      "pygments_lexer": "ipython3",
      "version": "3.7.9"
    }
  },
  "nbformat": 4,
  "nbformat_minor": 0
}